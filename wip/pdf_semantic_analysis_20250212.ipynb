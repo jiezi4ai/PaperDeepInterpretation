{
 "cells": [
  {
   "cell_type": "markdown",
   "metadata": {},
   "source": [
    "# Paper Metadata"
   ]
  },
  {
   "cell_type": "code",
   "execution_count": 1,
   "metadata": {},
   "outputs": [],
   "source": [
    "title = \"Training Large Language Models to Reason in a Continuous Latent Space\""
   ]
  },
  {
   "cell_type": "code",
   "execution_count": 2,
   "metadata": {},
   "outputs": [],
   "source": [
    "import sys\n",
    "import os\n",
    "\n",
    "# 获取当前脚本所在目录的父目录 (即 my_project)\n",
    "parent_dir = os.path.dirname(os.getcwd())\n",
    "\n",
    "# 将父目录添加到 sys.path\n",
    "sys.path.append(parent_dir)"
   ]
  },
  {
   "cell_type": "code",
   "execution_count": 3,
   "metadata": {},
   "outputs": [],
   "source": [
    "import time\n",
    "import requests\n",
    "\n",
    "from typing import List, Dict, Optional"
   ]
  },
  {
   "cell_type": "markdown",
   "metadata": {},
   "source": [
    "## Basic Metadata"
   ]
  },
  {
   "cell_type": "code",
   "execution_count": 4,
   "metadata": {},
   "outputs": [],
   "source": [
    "from apis.arxiv_tool import ArxivKit\n",
    "from apis.semanticscholar_tool import SemanticScholarKit"
   ]
  },
  {
   "cell_type": "code",
   "execution_count": 5,
   "metadata": {},
   "outputs": [
    {
     "name": "stderr",
     "output_type": "stream",
     "text": [
      "2025-02-12 15:02:52,985 - INFO - Requesting page (first: True, try: 0): https://export.arxiv.org/api/query?search_query=Training+Large+Language+Models+to+Reason+in+a+Continuous+Latent+Space&id_list=&sortBy=relevance&sortOrder=descending&start=0&max_results=100\n",
      "2025-02-12 15:02:58,698 - INFO - Got first page: 100 of 2656582 total results\n"
     ]
    }
   ],
   "source": [
    "arxiv = ArxivKit()\n",
    "\n",
    "# arxiv_metadata = []\n",
    "# for title in titles:\n",
    "#     candit_arxiv_metadata = arxiv.retrieve_metadata_by_paper(query_term=title, max_cnt=3)\n",
    "#     arxiv_metadata.append(candit_arxiv_metadata)\n",
    "#     time.sleep(5)\n",
    "\n",
    "arxiv_metadata = arxiv.retrieve_metadata_by_paper(query_term=title, max_cnt=3)"
   ]
  },
  {
   "cell_type": "code",
   "execution_count": 6,
   "metadata": {},
   "outputs": [
    {
     "name": "stderr",
     "output_type": "stream",
     "text": [
      "2025-02-12 15:03:00,872 - INFO - HTTP Request: GET https://api.semanticscholar.org/graph/v1/paper/search?query=Training%20Large%20Language%20Models%20to%20Reason%20in%20a%20Continuous%20Latent%20Space&fields=abstract,authors,citationCount,citationStyles,corpusId,externalIds,fieldsOfStudy,influentialCitationCount,isOpenAccess,journal,openAccessPdf,paperId,publicationDate,publicationTypes,publicationVenue,referenceCount,s2FieldsOfStudy,title,url,venue,year&offset=0&limit=3 \"HTTP/1.1 200 OK\"\n"
     ]
    }
   ],
   "source": [
    "ss = SemanticScholarKit()\n",
    "\n",
    "# ss_metadata = []\n",
    "# for title in titles:\n",
    "#     candit_ss_metadata = ss.search_paper_by_keywords(query=title, limit=3)\n",
    "#     ss_metadata.append(candit_ss_metadata)\n",
    "#     time.sleep(5)\n",
    "ss_metadata = ss.search_paper_by_keywords(query=title, limit=3)"
   ]
  },
  {
   "cell_type": "markdown",
   "metadata": {},
   "source": [
    "## References and Citations"
   ]
  },
  {
   "cell_type": "code",
   "execution_count": 7,
   "metadata": {},
   "outputs": [
    {
     "name": "stdout",
     "output_type": "stream",
     "text": [
      "673fbdd957cada770d10dffca5e45b53da43a3c6\n"
     ]
    }
   ],
   "source": [
    "# paper_ss_id = ss_metadata[0][0].get('paperId')\n",
    "paper_ss_id = ss_metadata[0].get('paperId')\n",
    "print(paper_ss_id)"
   ]
  },
  {
   "cell_type": "code",
   "execution_count": 8,
   "metadata": {},
   "outputs": [
    {
     "name": "stderr",
     "output_type": "stream",
     "text": [
      "2025-02-12 15:03:02,282 - INFO - HTTP Request: GET https://api.semanticscholar.org/graph/v1/paper/673fbdd957cada770d10dffca5e45b53da43a3c6/references?fields=contexts,intents,contextsWithIntent,isInfluential,abstract,authors,citationCount,citationStyles,corpusId,externalIds,fieldsOfStudy,influentialCitationCount,isOpenAccess,journal,openAccessPdf,paperId,publicationDate,publicationTypes,publicationVenue,referenceCount,s2FieldsOfStudy,title,url,venue,year&offset=0&limit=100 \"HTTP/1.1 429 \"\n",
      "2025-02-12 15:03:33,871 - INFO - HTTP Request: GET https://api.semanticscholar.org/graph/v1/paper/673fbdd957cada770d10dffca5e45b53da43a3c6/references?fields=contexts,intents,contextsWithIntent,isInfluential,abstract,authors,citationCount,citationStyles,corpusId,externalIds,fieldsOfStudy,influentialCitationCount,isOpenAccess,journal,openAccessPdf,paperId,publicationDate,publicationTypes,publicationVenue,referenceCount,s2FieldsOfStudy,title,url,venue,year&offset=0&limit=100 \"HTTP/1.1 429 \"\n",
      "2025-02-12 15:04:05,422 - INFO - HTTP Request: GET https://api.semanticscholar.org/graph/v1/paper/673fbdd957cada770d10dffca5e45b53da43a3c6/references?fields=contexts,intents,contextsWithIntent,isInfluential,abstract,authors,citationCount,citationStyles,corpusId,externalIds,fieldsOfStudy,influentialCitationCount,isOpenAccess,journal,openAccessPdf,paperId,publicationDate,publicationTypes,publicationVenue,referenceCount,s2FieldsOfStudy,title,url,venue,year&offset=0&limit=100 \"HTTP/1.1 429 \"\n",
      "2025-02-12 15:04:37,679 - INFO - HTTP Request: GET https://api.semanticscholar.org/graph/v1/paper/673fbdd957cada770d10dffca5e45b53da43a3c6/references?fields=contexts,intents,contextsWithIntent,isInfluential,abstract,authors,citationCount,citationStyles,corpusId,externalIds,fieldsOfStudy,influentialCitationCount,isOpenAccess,journal,openAccessPdf,paperId,publicationDate,publicationTypes,publicationVenue,referenceCount,s2FieldsOfStudy,title,url,venue,year&offset=0&limit=100 \"HTTP/1.1 200 OK\"\n"
     ]
    },
    {
     "data": {
      "text/plain": [
       "49"
      ]
     },
     "execution_count": 8,
     "metadata": {},
     "output_type": "execute_result"
    }
   ],
   "source": [
    "reference_metadata = ss.get_semanticscholar_references(paper_id=paper_ss_id, limit=100)\n",
    "len(reference_metadata)"
   ]
  },
  {
   "cell_type": "code",
   "execution_count": 12,
   "metadata": {},
   "outputs": [
    {
     "name": "stderr",
     "output_type": "stream",
     "text": [
      "2025-02-12 15:04:52,603 - INFO - HTTP Request: GET https://api.semanticscholar.org/graph/v1/paper/673fbdd957cada770d10dffca5e45b53da43a3c6/citations?fields=contexts,intents,contextsWithIntent,isInfluential,abstract,authors,citationCount,citationStyles,corpusId,externalIds,fieldsOfStudy,influentialCitationCount,isOpenAccess,journal,openAccessPdf,paperId,publicationDate,publicationTypes,publicationVenue,referenceCount,s2FieldsOfStudy,title,url,venue,year&offset=0&limit=100 \"HTTP/1.1 200 OK\"\n"
     ]
    },
    {
     "data": {
      "text/plain": [
       "9"
      ]
     },
     "execution_count": 12,
     "metadata": {},
     "output_type": "execute_result"
    }
   ],
   "source": [
    "citedby_metadata = ss.get_semanticscholar_citedby(paper_id=paper_ss_id, limit=100)\n",
    "len(citedby_metadata)"
   ]
  },
  {
   "cell_type": "code",
   "execution_count": 13,
   "metadata": {},
   "outputs": [],
   "source": [
    "test_str = reference_metadata[2].get('citedPaper', {}).get('citationStyles').get('bibtex')"
   ]
  },
  {
   "cell_type": "code",
   "execution_count": 14,
   "metadata": {},
   "outputs": [
    {
     "data": {
      "text/plain": [
       "\"@Article{Dubey2024TheL3,\\n author = {Abhimanyu Dubey and Abhinav Jauhri and Abhinav Pandey and Abhishek Kadian and Ahmad Al-Dahle and Aiesha Letman and Akhil Mathur and Alan Schelten and Amy Yang and Angela Fan and Anirudh Goyal and Anthony S. Hartshorn and Aobo Yang and Archi Mitra and Archie Sravankumar and Artem Korenev and Arthur Hinsvark and Arun Rao and Aston Zhang and Aurélien Rodriguez and Austen Gregerson and Ava Spataru and Bap-tiste Roziere and Bethany Biron and Binh Tang and Bobbie Chern and C. Caucheteux and Chaya Nayak and Chloe Bi and Chris Marra and Chris McConnell and Christian Keller and Christophe Touret and Chunyang Wu and Corinne Wong and Cristian Cantón Ferrer and Cyrus Nikolaidis and Damien Allonsius and Daniel Song and Danielle Pintz and Danny Livshits and David Esiobu and Dhruv Choudhary and Dhruv Mahajan and Diego Garcia-Olano and Diego Perino and Dieuwke Hupkes and Egor Lakomkin and Ehab A. AlBadawy and Elina Lobanova and Emily Dinan and Eric Michael Smith and Filip Radenovic and Frank Zhang and Gabriele Synnaeve and Gabrielle Lee and Georgia Lewis Anderson and Graeme Nail and Grégoire Mialon and Guanglong Pang and Guillem Cucurell and Hailey Nguyen and Hannah Korevaar and Hu Xu and Hugo Touvron and Iliyan Zarov and Imanol Arrieta Ibarra and Isabel M. Kloumann and Ishan Misra and Ivan Evtimov and Jade Copet and Jaewon Lee and J. Geffert and Jana Vranes and Jason Park and Jay Mahadeokar and Jeet Shah and J. V. D. Linde and Jennifer Billock and Jenny Hong and Jenya Lee and Jeremy Fu and Jianfeng Chi and Jianyu Huang and Jiawen Liu and Jie Wang and Jiecao Yu and Joanna Bitton and Joe Spisak and Jongsoo Park and Joseph Rocca and Joshua Johnstun and Joshua Saxe and Ju-Qing Jia and Kalyan Vasuden Alwala and K. Upasani and Kate Plawiak and Keqian Li and K. Heafield and Kevin Stone and Khalid El-Arini and Krithika Iyer and Kshitiz Malik and Kuen-ley Chiu and Kunal Bhalla and Lauren Rantala-Yeary and L. Maaten and Lawrence Chen and Liang Tan and Liz Jenkins and Louis Martin and Lovish Madaan and Lubo Malo and Lukas Blecher and Lukas Landzaat and Luke de Oliveira and Madeline Muzzi and M. Pasupuleti and Mannat Singh and Manohar Paluri and Marcin Kardas and Mathew Oldham and Mathieu Rita and Maya Pavlova and M. Kambadur and Mike Lewis and Min Si and Mitesh Kumar Singh and Mona Hassan and Naman Goyal and Narjes Torabi and Nikolay Bashlykov and Nikolay Bogoychev and Niladri S. Chatterji and Olivier Duchenne and Onur cCelebi and Patrick Alrassy and Pengchuan Zhang and Pengwei Li and Petar Vasić and Peter Weng and Prajjwal Bhargava and Pratik Dubal and Praveen Krishnan and Punit Singh Koura and Puxin Xu and Qing He and Qingxiao Dong and Ragavan Srinivasan and Raj Ganapathy and Ramon Calderer and Ricardo Silveira Cabral and Robert Stojnic and Roberta Raileanu and Rohit Girdhar and Rohit Patel and R. Sauvestre and Ronnie Polidoro and Roshan Sumbaly and Ross Taylor and Ruan Silva and Rui Hou and Rui Wang and S. Hosseini and Sahana Chennabasappa and Sanjay Singh and Sean Bell and Seohyun Sonia Kim and Sergey Edunov and Shaoliang Nie and Sharan Narang and S. Raparthy and Sheng Shen and Shengye Wan and Shruti Bhosale and Shun Zhang and Simon Vandenhende and Soumya Batra and Spencer Whitman and Sten Sootla and Stephane Collot and Suchin Gururangan and S. Borodinsky and Tamar Herman and Tara Fowler and Tarek Sheasha and Thomas Georgiou and Thomas Scialom and Tobias Speckbacher and Todor Mihaylov and Tong Xiao and Ujjwal Karn and Vedanuj Goswami and Vibhor Gupta and Vignesh Ramanathan and Viktor Kerkez and Vincent Gonguet and Virginie Do and Vish Vogeti and Vladan Petrovic and Weiwei Chu and Wenhan Xiong and Wenyin Fu and Whit-ney Meers and Xavier Martinet and Xiaodong Wang and Xiaoqing Ellen Tan and Xinfeng Xie and Xuchao Jia and Xuewei Wang and Yaelle Goldschlag and Yashesh Gaur and Yasmine Babaei and Yiqian Wen and Yiwen Song and Yuchen Zhang and Yue Li and Yuning Mao and Zacharie Delpierre Coudert and Zhengxu Yan and Zhengxing Chen and Zoe Papakipos and Aaditya K. Singh and Aaron Grattafiori and Abha Jain and Adam Kelsey and Adam Shajnfeld and Adi Gangidi and Adolfo Victoria and Ahuva Goldstand and Ajay Menon and Ajay Sharma and Alex Boesenberg and Alex Vaughan and Alexei Baevski and Allie Feinstein and A. Kallet and Amit Sangani and Anam Yunus and Andrei Lupu and Andres Alvarado and Andrew Caples and Andrew Gu and Andrew Ho and Andrew Poulton and Andrew Ryan and Ankit Ramchandani and Annie Franco and Aparajita Saraf and Arkabandhu Chowdhury and Ashley Gabriel and Ashwin Bharambe and Assaf Eisenman and Azadeh Yazdan and Beau James and Ben Maurer and Ben Leonhardi and Po-Yao (Bernie) Huang and Beth Loyd and Beto De Paola and Bhargavi Paranjape and Bing Liu and Bo Wu and Boyu Ni and Braden Hancock and Bram Wasti and Brandon Spence and Brani Stojkovic and Brian Gamido and Britt Montalvo and Carl Parker and Carly Burton and Catalina Mejia and Changhan Wang and Changkyu Kim and Chao Zhou and Chester Hu and Ching-Hsiang Chu and Chris Cai and Chris Tindal and Christoph Feichtenhofer and Damon Civin and Dana Beaty and Daniel Kreymer and Shang-Wen Li and Danny Wyatt and David Adkins and David Xu and Davide Testuggine and Delia David and Devi Parikh and Diana Liskovich and Didem Foss and Dingkang Wang and Duc Le and Dustin Holland and Edward Dowling and Eissa Jamil and Elaine Montgomery and Eleonora Presani and Emily Hahn and Emily Wood and Erik Brinkman and Esteban Arcaute and Evan Dunbar and Evan Smothers and Fei Sun and Felix Kreuk and Feng Tian and Firat Ozgenel and Francesco Caggioni and Francisco Guzm'an and Frank J. Kanayet and Frank Seide and Gabriela Medina Florez and Gabriella Schwarz and Gada Badeer and Georgia Swee and Gil Halpern and G. Thattai and Grant Herman and G. Sizov and Guangyi Zhang and Guna Lakshminarayanan and Hamid Shojanazeri and Han Zou and Hannah Wang and Han Zha and Haroun Habeeb and Harrison Rudolph and Helen Suk and Henry Aspegren and Hunter Goldman and Igor Molybog and Igor Tufanov and Irina-Elena Veliche and Itai Gat and Jake Weissman and James Geboski and James Kohli and Japhet Asher and Jean-Baptiste Gaya and Jeff Marcus and Jeff Tang and Jennifer Chan and Jenny Zhen and Jeremy Reizenstein and Jeremy Teboul and Jessica Zhong and Jian Jin and Jingyi Yang and Joe Cummings and Jon Carvill and Jon Shepard and Jonathan McPhie and Jonathan Torres and Josh Ginsburg and Junjie Wang and Kaixing(Kai) Wu and U. KamHou and Karan Saxena and Karthik Prasad and Kartikay Khandelwal and Katayoun Zand and Kathy Matosich and K. Veeraraghavan and Kelly Michelena and Keqian Li and Kun Huang and Kunal Chawla and Kushal Lakhotia and Kyle Huang and Lailin Chen and Lakshya Garg and A. Lavender and Leandro Silva and Lee Bell and Lei Zhang and Liangpeng Guo and Licheng Yu and Liron Moshkovich and Luca Wehrstedt and Madian Khabsa and Manav Avalani and Manish Bhatt and M. Tsimpoukelli and Martynas Mankus and Matan Hasson and M. Lennie and Matthias Reso and Maxim Groshev and Maxim Naumov and Maya Lathi and Meghan Keneally and M. Seltzer and Michal Valko and Michelle Restrepo and Mihir Patel and Mik Vyatskov and Mikayel Samvelyan and Mike Clark and Mike Macey and Mike Wang and Miquel Jubert Hermoso and Mo Metanat and Mohammad Rastegari and Munish Bansal and Nandhini Santhanam and Natascha Parks and Natasha White and Navyata Bawa and Nayan Singhal and Nick Egebo and Nicolas Usunier and Nikolay Pavlovich Laptev and Ning Dong and Ning Zhang and Norman Cheng and Oleg Chernoguz and Olivia Hart and Omkar Salpekar and Ozlem Kalinli and Parkin Kent and Parth Parekh and Paul Saab and Pavan Balaji and Pedro Rittner and Philip Bontrager and Pierre Roux and Piotr Dollár and Polina Zvyagina and Prashant Ratanchandani and Pritish Yuvraj and Qian Liang and Rachad Alao and Rachel Rodriguez and Rafi Ayub and Raghotham Murthy and Raghu Nayani and Rahul Mitra and Raymond Li and Rebekkah Hogan and Robin Battey and Rocky Wang and Rohan Maheswari and Russ Howes and Ruty Rinott and Sai Jayesh Bondu and Samyak Datta and Sara Chugh and Sara Hunt and Sargun Dhillon and Sasha Sidorov and Satadru Pan and Saurabh Verma and Seiji Yamamoto and Sharadh Ramaswamy and Shaun Lindsay and Sheng Feng and Shenghao Lin and S. Zha and Shiva Shankar and Shuqiang Zhang and Sinong Wang and Sneha Agarwal and S. Sajuyigbe and Soumith Chintala and Stephanie Max and Stephen Chen and Steve Kehoe and Steve Satterfield and Sudarshan Govindaprasad and Sumit Gupta and Sung-Bae Cho and Sunny Virk and Suraj Subramanian and Sy Choudhury and Sydney Goldman and T. Remez and Tamar Glaser and Tamara Best and Thilo Kohler and Thomas Robinson and Tianhe Li and Tianjun Zhang and Tim Matthews and Timothy Chou and Tzook Shaked and Varun Vontimitta and Victoria Ajayi and Victoria Montanez and Vijai Mohan and Vinay Satish Kumar and Vishal Mangla and Vlad Ionescu and V. Poenaru and Vlad T. Mihailescu and Vladimir Ivanov and Wei Li and Wenchen Wang and Wenwen Jiang and Wes Bouaziz and Will Constable and Xia Tang and Xiaofang Wang and Xiaojian Wu and Xiaolan Wang and Xide Xia and Xilun Wu and Xinbo Gao and Yanjun Chen and Ye Hu and Ye Jia and Ye Qi and Yenda Li and Yilin Zhang and Ying Zhang and Yossi Adi and Youngjin Nam and Yu Wang and Yuchen Hao and Yundi Qian and Yuzi He and Zach Rait and Zachary DeVito and Zef Rosnbrick and Zhaoduo Wen and Zhenyu Yang and Zhiwei Zhao},\\n booktitle = {arXiv.org},\\n journal = {ArXiv},\\n title = {The Llama 3 Herd of Models},\\n volume = {abs/2407.21783},\\n year = {2024}\\n}\\n\""
      ]
     },
     "execution_count": 14,
     "metadata": {},
     "output_type": "execute_result"
    }
   ],
   "source": [
    "test_str"
   ]
  },
  {
   "cell_type": "code",
   "execution_count": 15,
   "metadata": {},
   "outputs": [],
   "source": [
    "import bibtexparser\n",
    "# Parsing a bibtex string with default values\n",
    "bib_database = bibtexparser.parse_string(test_str)\n",
    "# Converting it back to a bibtex string, again with default values\n",
    "new_bibtex_string = bibtexparser.write_string(bib_database)"
   ]
  },
  {
   "cell_type": "code",
   "execution_count": 16,
   "metadata": {},
   "outputs": [
    {
     "data": {
      "text/plain": [
       "\"@article{Dubey2024TheL3,\\n\\tauthor = {Abhimanyu Dubey and Abhinav Jauhri and Abhinav Pandey and Abhishek Kadian and Ahmad Al-Dahle and Aiesha Letman and Akhil Mathur and Alan Schelten and Amy Yang and Angela Fan and Anirudh Goyal and Anthony S. Hartshorn and Aobo Yang and Archi Mitra and Archie Sravankumar and Artem Korenev and Arthur Hinsvark and Arun Rao and Aston Zhang and Aurélien Rodriguez and Austen Gregerson and Ava Spataru and Bap-tiste Roziere and Bethany Biron and Binh Tang and Bobbie Chern and C. Caucheteux and Chaya Nayak and Chloe Bi and Chris Marra and Chris McConnell and Christian Keller and Christophe Touret and Chunyang Wu and Corinne Wong and Cristian Cantón Ferrer and Cyrus Nikolaidis and Damien Allonsius and Daniel Song and Danielle Pintz and Danny Livshits and David Esiobu and Dhruv Choudhary and Dhruv Mahajan and Diego Garcia-Olano and Diego Perino and Dieuwke Hupkes and Egor Lakomkin and Ehab A. AlBadawy and Elina Lobanova and Emily Dinan and Eric Michael Smith and Filip Radenovic and Frank Zhang and Gabriele Synnaeve and Gabrielle Lee and Georgia Lewis Anderson and Graeme Nail and Grégoire Mialon and Guanglong Pang and Guillem Cucurell and Hailey Nguyen and Hannah Korevaar and Hu Xu and Hugo Touvron and Iliyan Zarov and Imanol Arrieta Ibarra and Isabel M. Kloumann and Ishan Misra and Ivan Evtimov and Jade Copet and Jaewon Lee and J. Geffert and Jana Vranes and Jason Park and Jay Mahadeokar and Jeet Shah and J. V. D. Linde and Jennifer Billock and Jenny Hong and Jenya Lee and Jeremy Fu and Jianfeng Chi and Jianyu Huang and Jiawen Liu and Jie Wang and Jiecao Yu and Joanna Bitton and Joe Spisak and Jongsoo Park and Joseph Rocca and Joshua Johnstun and Joshua Saxe and Ju-Qing Jia and Kalyan Vasuden Alwala and K. Upasani and Kate Plawiak and Keqian Li and K. Heafield and Kevin Stone and Khalid El-Arini and Krithika Iyer and Kshitiz Malik and Kuen-ley Chiu and Kunal Bhalla and Lauren Rantala-Yeary and L. Maaten and Lawrence Chen and Liang Tan and Liz Jenkins and Louis Martin and Lovish Madaan and Lubo Malo and Lukas Blecher and Lukas Landzaat and Luke de Oliveira and Madeline Muzzi and M. Pasupuleti and Mannat Singh and Manohar Paluri and Marcin Kardas and Mathew Oldham and Mathieu Rita and Maya Pavlova and M. Kambadur and Mike Lewis and Min Si and Mitesh Kumar Singh and Mona Hassan and Naman Goyal and Narjes Torabi and Nikolay Bashlykov and Nikolay Bogoychev and Niladri S. Chatterji and Olivier Duchenne and Onur cCelebi and Patrick Alrassy and Pengchuan Zhang and Pengwei Li and Petar Vasić and Peter Weng and Prajjwal Bhargava and Pratik Dubal and Praveen Krishnan and Punit Singh Koura and Puxin Xu and Qing He and Qingxiao Dong and Ragavan Srinivasan and Raj Ganapathy and Ramon Calderer and Ricardo Silveira Cabral and Robert Stojnic and Roberta Raileanu and Rohit Girdhar and Rohit Patel and R. Sauvestre and Ronnie Polidoro and Roshan Sumbaly and Ross Taylor and Ruan Silva and Rui Hou and Rui Wang and S. Hosseini and Sahana Chennabasappa and Sanjay Singh and Sean Bell and Seohyun Sonia Kim and Sergey Edunov and Shaoliang Nie and Sharan Narang and S. Raparthy and Sheng Shen and Shengye Wan and Shruti Bhosale and Shun Zhang and Simon Vandenhende and Soumya Batra and Spencer Whitman and Sten Sootla and Stephane Collot and Suchin Gururangan and S. Borodinsky and Tamar Herman and Tara Fowler and Tarek Sheasha and Thomas Georgiou and Thomas Scialom and Tobias Speckbacher and Todor Mihaylov and Tong Xiao and Ujjwal Karn and Vedanuj Goswami and Vibhor Gupta and Vignesh Ramanathan and Viktor Kerkez and Vincent Gonguet and Virginie Do and Vish Vogeti and Vladan Petrovic and Weiwei Chu and Wenhan Xiong and Wenyin Fu and Whit-ney Meers and Xavier Martinet and Xiaodong Wang and Xiaoqing Ellen Tan and Xinfeng Xie and Xuchao Jia and Xuewei Wang and Yaelle Goldschlag and Yashesh Gaur and Yasmine Babaei and Yiqian Wen and Yiwen Song and Yuchen Zhang and Yue Li and Yuning Mao and Zacharie Delpierre Coudert and Zhengxu Yan and Zhengxing Chen and Zoe Papakipos and Aaditya K. Singh and Aaron Grattafiori and Abha Jain and Adam Kelsey and Adam Shajnfeld and Adi Gangidi and Adolfo Victoria and Ahuva Goldstand and Ajay Menon and Ajay Sharma and Alex Boesenberg and Alex Vaughan and Alexei Baevski and Allie Feinstein and A. Kallet and Amit Sangani and Anam Yunus and Andrei Lupu and Andres Alvarado and Andrew Caples and Andrew Gu and Andrew Ho and Andrew Poulton and Andrew Ryan and Ankit Ramchandani and Annie Franco and Aparajita Saraf and Arkabandhu Chowdhury and Ashley Gabriel and Ashwin Bharambe and Assaf Eisenman and Azadeh Yazdan and Beau James and Ben Maurer and Ben Leonhardi and Po-Yao (Bernie) Huang and Beth Loyd and Beto De Paola and Bhargavi Paranjape and Bing Liu and Bo Wu and Boyu Ni and Braden Hancock and Bram Wasti and Brandon Spence and Brani Stojkovic and Brian Gamido and Britt Montalvo and Carl Parker and Carly Burton and Catalina Mejia and Changhan Wang and Changkyu Kim and Chao Zhou and Chester Hu and Ching-Hsiang Chu and Chris Cai and Chris Tindal and Christoph Feichtenhofer and Damon Civin and Dana Beaty and Daniel Kreymer and Shang-Wen Li and Danny Wyatt and David Adkins and David Xu and Davide Testuggine and Delia David and Devi Parikh and Diana Liskovich and Didem Foss and Dingkang Wang and Duc Le and Dustin Holland and Edward Dowling and Eissa Jamil and Elaine Montgomery and Eleonora Presani and Emily Hahn and Emily Wood and Erik Brinkman and Esteban Arcaute and Evan Dunbar and Evan Smothers and Fei Sun and Felix Kreuk and Feng Tian and Firat Ozgenel and Francesco Caggioni and Francisco Guzm'an and Frank J. Kanayet and Frank Seide and Gabriela Medina Florez and Gabriella Schwarz and Gada Badeer and Georgia Swee and Gil Halpern and G. Thattai and Grant Herman and G. Sizov and Guangyi Zhang and Guna Lakshminarayanan and Hamid Shojanazeri and Han Zou and Hannah Wang and Han Zha and Haroun Habeeb and Harrison Rudolph and Helen Suk and Henry Aspegren and Hunter Goldman and Igor Molybog and Igor Tufanov and Irina-Elena Veliche and Itai Gat and Jake Weissman and James Geboski and James Kohli and Japhet Asher and Jean-Baptiste Gaya and Jeff Marcus and Jeff Tang and Jennifer Chan and Jenny Zhen and Jeremy Reizenstein and Jeremy Teboul and Jessica Zhong and Jian Jin and Jingyi Yang and Joe Cummings and Jon Carvill and Jon Shepard and Jonathan McPhie and Jonathan Torres and Josh Ginsburg and Junjie Wang and Kaixing(Kai) Wu and U. KamHou and Karan Saxena and Karthik Prasad and Kartikay Khandelwal and Katayoun Zand and Kathy Matosich and K. Veeraraghavan and Kelly Michelena and Keqian Li and Kun Huang and Kunal Chawla and Kushal Lakhotia and Kyle Huang and Lailin Chen and Lakshya Garg and A. Lavender and Leandro Silva and Lee Bell and Lei Zhang and Liangpeng Guo and Licheng Yu and Liron Moshkovich and Luca Wehrstedt and Madian Khabsa and Manav Avalani and Manish Bhatt and M. Tsimpoukelli and Martynas Mankus and Matan Hasson and M. Lennie and Matthias Reso and Maxim Groshev and Maxim Naumov and Maya Lathi and Meghan Keneally and M. Seltzer and Michal Valko and Michelle Restrepo and Mihir Patel and Mik Vyatskov and Mikayel Samvelyan and Mike Clark and Mike Macey and Mike Wang and Miquel Jubert Hermoso and Mo Metanat and Mohammad Rastegari and Munish Bansal and Nandhini Santhanam and Natascha Parks and Natasha White and Navyata Bawa and Nayan Singhal and Nick Egebo and Nicolas Usunier and Nikolay Pavlovich Laptev and Ning Dong and Ning Zhang and Norman Cheng and Oleg Chernoguz and Olivia Hart and Omkar Salpekar and Ozlem Kalinli and Parkin Kent and Parth Parekh and Paul Saab and Pavan Balaji and Pedro Rittner and Philip Bontrager and Pierre Roux and Piotr Dollár and Polina Zvyagina and Prashant Ratanchandani and Pritish Yuvraj and Qian Liang and Rachad Alao and Rachel Rodriguez and Rafi Ayub and Raghotham Murthy and Raghu Nayani and Rahul Mitra and Raymond Li and Rebekkah Hogan and Robin Battey and Rocky Wang and Rohan Maheswari and Russ Howes and Ruty Rinott and Sai Jayesh Bondu and Samyak Datta and Sara Chugh and Sara Hunt and Sargun Dhillon and Sasha Sidorov and Satadru Pan and Saurabh Verma and Seiji Yamamoto and Sharadh Ramaswamy and Shaun Lindsay and Sheng Feng and Shenghao Lin and S. Zha and Shiva Shankar and Shuqiang Zhang and Sinong Wang and Sneha Agarwal and S. Sajuyigbe and Soumith Chintala and Stephanie Max and Stephen Chen and Steve Kehoe and Steve Satterfield and Sudarshan Govindaprasad and Sumit Gupta and Sung-Bae Cho and Sunny Virk and Suraj Subramanian and Sy Choudhury and Sydney Goldman and T. Remez and Tamar Glaser and Tamara Best and Thilo Kohler and Thomas Robinson and Tianhe Li and Tianjun Zhang and Tim Matthews and Timothy Chou and Tzook Shaked and Varun Vontimitta and Victoria Ajayi and Victoria Montanez and Vijai Mohan and Vinay Satish Kumar and Vishal Mangla and Vlad Ionescu and V. Poenaru and Vlad T. Mihailescu and Vladimir Ivanov and Wei Li and Wenchen Wang and Wenwen Jiang and Wes Bouaziz and Will Constable and Xia Tang and Xiaofang Wang and Xiaojian Wu and Xiaolan Wang and Xide Xia and Xilun Wu and Xinbo Gao and Yanjun Chen and Ye Hu and Ye Jia and Ye Qi and Yenda Li and Yilin Zhang and Ying Zhang and Yossi Adi and Youngjin Nam and Yu Wang and Yuchen Hao and Yundi Qian and Yuzi He and Zach Rait and Zachary DeVito and Zef Rosnbrick and Zhaoduo Wen and Zhenyu Yang and Zhiwei Zhao},\\n\\tbooktitle = {arXiv.org},\\n\\tjournal = {ArXiv},\\n\\ttitle = {The Llama 3 Herd of Models},\\n\\tvolume = {abs/2407.21783},\\n\\tyear = {2024}\\n}\\n\""
      ]
     },
     "execution_count": 16,
     "metadata": {},
     "output_type": "execute_result"
    }
   ],
   "source": [
    "new_bibtex_string"
   ]
  },
  {
   "cell_type": "code",
   "execution_count": 46,
   "metadata": {},
   "outputs": [
    {
     "data": {
      "text/plain": [
       "BibliographyData(\n",
       "  entries=OrderedCaseInsensitiveDict([\n",
       "    ('Dubey2024TheL3', Entry('article',\n",
       "      fields=[\n",
       "        ('bo\n",
       "        oktitle', 'arXiv.org'), \n",
       "        ('journal', 'ArXiv'), ('title', 'The Llama 3 Herd of Models'), \n",
       "        ('volume', 'abs/2407.21783'), \n",
       "        ('year', '2024')],\n",
       "      persons=OrderedCaseInsensitiveDict([('author', [Person('Dubey, Abhimanyu'), Person('Jauhri, Abhinav'), Person('Pandey, Abhinav'), Person('Kadian, Abhishek'), Person('Al-Dahle, Ahmad'), Person('Letman, Aiesha'), Person('Mathur, Akhil'), Person('Schelten, Alan'), Person('Yang, Amy'), Person('Fan, Angela'), Person('Goyal, Anirudh'), Person('Hartshorn, Anthony S.'), Person('Yang, Aobo'), Person('Mitra, Archi'), Person('Sravankumar, Archie'), Person('Korenev, Artem'), Person('Hinsvark, Arthur'), Person('Rao, Arun'), Person('Zhang, Aston'), Person('Rodriguez, Aurélien'), Person('Gregerson, Austen'), Person('Spataru, Ava'), Person('Roziere, Bap-tiste'), Person('Biron, Bethany'), Person('Tang, Binh'), Person('Chern, Bobbie'), Person('Caucheteux, C.'), Person('Nayak, Chaya'), Person('Bi, Chloe'), Person('Marra, Chris'), Person('McConnell, Chris'), Person('Keller, Christian'), Person('Touret, Christophe'), Person('Wu, Chunyang'), Person('Wong, Corinne'), Person('Ferrer, Cristian Cantón'), Person('Nikolaidis, Cyrus'), Person('Allonsius, Damien'), Person('Song, Daniel'), Person('Pintz, Danielle'), Person('Livshits, Danny'), Person('Esiobu, David'), Person('Choudhary, Dhruv'), Person('Mahajan, Dhruv'), Person('Garcia-Olano, Diego'), Person('Perino, Diego'), Person('Hupkes, Dieuwke'), Person('Lakomkin, Egor'), Person('AlBadawy, Ehab A.'), Person('Lobanova, Elina'), Person('Dinan, Emily'), Person('Smith, Eric Michael'), Person('Radenovic, Filip'), Person('Zhang, Frank'), Person('Synnaeve, Gabriele'), Person('Lee, Gabrielle'), Person('Anderson, Georgia Lewis'), Person('Nail, Graeme'), Person('Mialon, Grégoire'), Person('Pang, Guanglong'), Person('Cucurell, Guillem'), Person('Nguyen, Hailey'), Person('Korevaar, Hannah'), Person('Xu, Hu'), Person('Touvron, Hugo'), Person('Zarov, Iliyan'), Person('Ibarra, Imanol Arrieta'), Person('Kloumann, Isabel M.'), Person('Misra, Ishan'), Person('Evtimov, Ivan'), Person('Copet, Jade'), Person('Lee, Jaewon'), Person('Geffert, J.'), Person('Vranes, Jana'), Person('Park, Jason'), Person('Mahadeokar, Jay'), Person('Shah, Jeet'), Person('Linde, J. V. D.'), Person('Billock, Jennifer'), Person('Hong, Jenny'), Person('Lee, Jenya'), Person('Fu, Jeremy'), Person('Chi, Jianfeng'), Person('Huang, Jianyu'), Person('Liu, Jiawen'), Person('Wang, Jie'), Person('Yu, Jiecao'), Person('Bitton, Joanna'), Person('Spisak, Joe'), Person('Park, Jongsoo'), Person('Rocca, Joseph'), Person('Johnstun, Joshua'), Person('Saxe, Joshua'), Person('Jia, Ju-Qing'), Person('Alwala, Kalyan Vasuden'), Person('Upasani, K.'), Person('Plawiak, Kate'), Person('Li, Keqian'), Person('Heafield, K.'), Person('Stone, Kevin'), Person('El-Arini, Khalid'), Person('Iyer, Krithika'), Person('Malik, Kshitiz'), Person('Chiu, Kuen-ley'), Person('Bhalla, Kunal'), Person('Rantala-Yeary, Lauren'), Person('Maaten, L.'), Person('Chen, Lawrence'), Person('Tan, Liang'), Person('Jenkins, Liz'), Person('Martin, Louis'), Person('Madaan, Lovish'), Person('Malo, Lubo'), Person('Blecher, Lukas'), Person('Landzaat, Lukas'), Person('de Oliveira, Luke'), Person('Muzzi, Madeline'), Person('Pasupuleti, M.'), Person('Singh, Mannat'), Person('Paluri, Manohar'), Person('Kardas, Marcin'), Person('Oldham, Mathew'), Person('Rita, Mathieu'), Person('Pavlova, Maya'), Person('Kambadur, M.'), Person('Lewis, Mike'), Person('Si, Min'), Person('Singh, Mitesh Kumar'), Person('Hassan, Mona'), Person('Goyal, Naman'), Person('Torabi, Narjes'), Person('Bashlykov, Nikolay'), Person('Bogoychev, Nikolay'), Person('Chatterji, Niladri S.'), Person('Duchenne, Olivier'), Person('cCelebi, Onur'), Person('Alrassy, Patrick'), Person('Zhang, Pengchuan'), Person('Li, Pengwei'), Person('Vasić, Petar'), Person('Weng, Peter'), Person('Bhargava, Prajjwal'), Person('Dubal, Pratik'), Person('Krishnan, Praveen'), Person('Koura, Punit Singh'), Person('Xu, Puxin'), Person('He, Qing'), Person('Dong, Qingxiao'), Person('Srinivasan, Ragavan'), Person('Ganapathy, Raj'), Person('Calderer, Ramon'), Person('Cabral, Ricardo Silveira'), Person('Stojnic, Robert'), Person('Raileanu, Roberta'), Person('Girdhar, Rohit'), Person('Patel, Rohit'), Person('Sauvestre, R.'), Person('Polidoro, Ronnie'), Person('Sumbaly, Roshan'), Person('Taylor, Ross'), Person('Silva, Ruan'), Person('Hou, Rui'), Person('Wang, Rui'), Person('Hosseini, S.'), Person('Chennabasappa, Sahana'), Person('Singh, Sanjay'), Person('Bell, Sean'), Person('Kim, Seohyun Sonia'), Person('Edunov, Sergey'), Person('Nie, Shaoliang'), Person('Narang, Sharan'), Person('Raparthy, S.'), Person('Shen, Sheng'), Person('Wan, Shengye'), Person('Bhosale, Shruti'), Person('Zhang, Shun'), Person('Vandenhende, Simon'), Person('Batra, Soumya'), Person('Whitman, Spencer'), Person('Sootla, Sten'), Person('Collot, Stephane'), Person('Gururangan, Suchin'), Person('Borodinsky, S.'), Person('Herman, Tamar'), Person('Fowler, Tara'), Person('Sheasha, Tarek'), Person('Georgiou, Thomas'), Person('Scialom, Thomas'), Person('Speckbacher, Tobias'), Person('Mihaylov, Todor'), Person('Xiao, Tong'), Person('Karn, Ujjwal'), Person('Goswami, Vedanuj'), Person('Gupta, Vibhor'), Person('Ramanathan, Vignesh'), Person('Kerkez, Viktor'), Person('Gonguet, Vincent'), Person('Do, Virginie'), Person('Vogeti, Vish'), Person('Petrovic, Vladan'), Person('Chu, Weiwei'), Person('Xiong, Wenhan'), Person('Fu, Wenyin'), Person('Meers, Whit-ney'), Person('Martinet, Xavier'), Person('Wang, Xiaodong'), Person('Tan, Xiaoqing Ellen'), Person('Xie, Xinfeng'), Person('Jia, Xuchao'), Person('Wang, Xuewei'), Person('Goldschlag, Yaelle'), Person('Gaur, Yashesh'), Person('Babaei, Yasmine'), Person('Wen, Yiqian'), Person('Song, Yiwen'), Person('Zhang, Yuchen'), Person('Li, Yue'), Person('Mao, Yuning'), Person('Coudert, Zacharie Delpierre'), Person('Yan, Zhengxu'), Person('Chen, Zhengxing'), Person('Papakipos, Zoe'), Person('Singh, Aaditya K.'), Person('Grattafiori, Aaron'), Person('Jain, Abha'), Person('Kelsey, Adam'), Person('Shajnfeld, Adam'), Person('Gangidi, Adi'), Person('Victoria, Adolfo'), Person('Goldstand, Ahuva'), Person('Menon, Ajay'), Person('Sharma, Ajay'), Person('Boesenberg, Alex'), Person('Vaughan, Alex'), Person('Baevski, Alexei'), Person('Feinstein, Allie'), Person('Kallet, A.'), Person('Sangani, Amit'), Person('Yunus, Anam'), Person('Lupu, Andrei'), Person('Alvarado, Andres'), Person('Caples, Andrew'), Person('Gu, Andrew'), Person('Ho, Andrew'), Person('Poulton, Andrew'), Person('Ryan, Andrew'), Person('Ramchandani, Ankit'), Person('Franco, Annie'), Person('Saraf, Aparajita'), Person('Chowdhury, Arkabandhu'), Person('Gabriel, Ashley'), Person('Bharambe, Ashwin'), Person('Eisenman, Assaf'), Person('Yazdan, Azadeh'), Person('James, Beau'), Person('Maurer, Ben'), Person('Leonhardi, Ben'), Person('Huang, Po-Yao (Bernie)'), Person('Loyd, Beth'), Person('Paola, Beto De'), Person('Paranjape, Bhargavi'), Person('Liu, Bing'), Person('Wu, Bo'), Person('Ni, Boyu'), Person('Hancock, Braden'), Person('Wasti, Bram'), Person('Spence, Brandon'), Person('Stojkovic, Brani'), Person('Gamido, Brian'), Person('Montalvo, Britt'), Person('Parker, Carl'), Person('Burton, Carly'), Person('Mejia, Catalina'), Person('Wang, Changhan'), Person('Kim, Changkyu'), Person('Zhou, Chao'), Person('Hu, Chester'), Person('Chu, Ching-Hsiang'), Person('Cai, Chris'), Person('Tindal, Chris'), Person('Feichtenhofer, Christoph'), Person('Civin, Damon'), Person('Beaty, Dana'), Person('Kreymer, Daniel'), Person('Li, Shang-Wen'), Person('Wyatt, Danny'), Person('Adkins, David'), Person('Xu, David'), Person('Testuggine, Davide'), Person('David, Delia'), Person('Parikh, Devi'), Person('Liskovich, Diana'), Person('Foss, Didem'), Person('Wang, Dingkang'), Person('Le, Duc'), Person('Holland, Dustin'), Person('Dowling, Edward'), Person('Jamil, Eissa'), Person('Montgomery, Elaine'), Person('Presani, Eleonora'), Person('Hahn, Emily'), Person('Wood, Emily'), Person('Brinkman, Erik'), Person('Arcaute, Esteban'), Person('Dunbar, Evan'), Person('Smothers, Evan'), Person('Sun, Fei'), Person('Kreuk, Felix'), Person('Tian, Feng'), Person('Ozgenel, Firat'), Person('Caggioni, Francesco'), Person(\"Guzm'an, Francisco\"), Person('Kanayet, Frank J.'), Person('Seide, Frank'), Person('Florez, Gabriela Medina'), Person('Schwarz, Gabriella'), Person('Badeer, Gada'), Person('Swee, Georgia'), Person('Halpern, Gil'), Person('Thattai, G.'), Person('Herman, Grant'), Person('Sizov, G.'), Person('Zhang, Guangyi'), Person('Lakshminarayanan, Guna'), Person('Shojanazeri, Hamid'), Person('Zou, Han'), Person('Wang, Hannah'), Person('Zha, Han'), Person('Habeeb, Haroun'), Person('Rudolph, Harrison'), Person('Suk, Helen'), Person('Aspegren, Henry'), Person('Goldman, Hunter'), Person('Molybog, Igor'), Person('Tufanov, Igor'), Person('Veliche, Irina-Elena'), Person('Gat, Itai'), Person('Weissman, Jake'), Person('Geboski, James'), Person('Kohli, James'), Person('Asher, Japhet'), Person('Gaya, Jean-Baptiste'), Person('Marcus, Jeff'), Person('Tang, Jeff'), Person('Chan, Jennifer'), Person('Zhen, Jenny'), Person('Reizenstein, Jeremy'), Person('Teboul, Jeremy'), Person('Zhong, Jessica'), Person('Jin, Jian'), Person('Yang, Jingyi'), Person('Cummings, Joe'), Person('Carvill, Jon'), Person('Shepard, Jon'), Person('McPhie, Jonathan'), Person('Torres, Jonathan'), Person('Ginsburg, Josh'), Person('Wang, Junjie'), Person('Wu, Kaixing(Kai)'), Person('KamHou, U.'), Person('Saxena, Karan'), Person('Prasad, Karthik'), Person('Khandelwal, Kartikay'), Person('Zand, Katayoun'), Person('Matosich, Kathy'), Person('Veeraraghavan, K.'), Person('Michelena, Kelly'), Person('Li, Keqian'), Person('Huang, Kun'), Person('Chawla, Kunal'), Person('Lakhotia, Kushal'), Person('Huang, Kyle'), Person('Chen, Lailin'), Person('Garg, Lakshya'), Person('Lavender, A.'), Person('Silva, Leandro'), Person('Bell, Lee'), Person('Zhang, Lei'), Person('Guo, Liangpeng'), Person('Yu, Licheng'), Person('Moshkovich, Liron'), Person('Wehrstedt, Luca'), Person('Khabsa, Madian'), Person('Avalani, Manav'), Person('Bhatt, Manish'), Person('Tsimpoukelli, M.'), Person('Mankus, Martynas'), Person('Hasson, Matan'), Person('Lennie, M.'), Person('Reso, Matthias'), Person('Groshev, Maxim'), Person('Naumov, Maxim'), Person('Lathi, Maya'), Person('Keneally, Meghan'), Person('Seltzer, M.'), Person('Valko, Michal'), Person('Restrepo, Michelle'), Person('Patel, Mihir'), Person('Vyatskov, Mik'), Person('Samvelyan, Mikayel'), Person('Clark, Mike'), Person('Macey, Mike'), Person('Wang, Mike'), Person('Hermoso, Miquel Jubert'), Person('Metanat, Mo'), Person('Rastegari, Mohammad'), Person('Bansal, Munish'), Person('Santhanam, Nandhini'), Person('Parks, Natascha'), Person('White, Natasha'), Person('Bawa, Navyata'), Person('Singhal, Nayan'), Person('Egebo, Nick'), Person('Usunier, Nicolas'), Person('Laptev, Nikolay Pavlovich'), Person('Dong, Ning'), Person('Zhang, Ning'), Person('Cheng, Norman'), Person('Chernoguz, Oleg'), Person('Hart, Olivia'), Person('Salpekar, Omkar'), Person('Kalinli, Ozlem'), Person('Kent, Parkin'), Person('Parekh, Parth'), Person('Saab, Paul'), Person('Balaji, Pavan'), Person('Rittner, Pedro'), Person('Bontrager, Philip'), Person('Roux, Pierre'), Person('Dollár, Piotr'), Person('Zvyagina, Polina'), Person('Ratanchandani, Prashant'), Person('Yuvraj, Pritish'), Person('Liang, Qian'), Person('Alao, Rachad'), Person('Rodriguez, Rachel'), Person('Ayub, Rafi'), Person('Murthy, Raghotham'), Person('Nayani, Raghu'), Person('Mitra, Rahul'), Person('Li, Raymond'), Person('Hogan, Rebekkah'), Person('Battey, Robin'), Person('Wang, Rocky'), Person('Maheswari, Rohan'), Person('Howes, Russ'), Person('Rinott, Ruty'), Person('Bondu, Sai Jayesh'), Person('Datta, Samyak'), Person('Chugh, Sara'), Person('Hunt, Sara'), Person('Dhillon, Sargun'), Person('Sidorov, Sasha'), Person('Pan, Satadru'), Person('Verma, Saurabh'), Person('Yamamoto, Seiji'), Person('Ramaswamy, Sharadh'), Person('Lindsay, Shaun'), Person('Feng, Sheng'), Person('Lin, Shenghao'), Person('Zha, S.'), Person('Shankar, Shiva'), Person('Zhang, Shuqiang'), Person('Wang, Sinong'), Person('Agarwal, Sneha'), Person('Sajuyigbe, S.'), Person('Chintala, Soumith'), Person('Max, Stephanie'), Person('Chen, Stephen'), Person('Kehoe, Steve'), Person('Satterfield, Steve'), Person('Govindaprasad, Sudarshan'), Person('Gupta, Sumit'), Person('Cho, Sung-Bae'), Person('Virk, Sunny'), Person('Subramanian, Suraj'), Person('Choudhury, Sy'), Person('Goldman, Sydney'), Person('Remez, T.'), Person('Glaser, Tamar'), Person('Best, Tamara'), Person('Kohler, Thilo'), Person('Robinson, Thomas'), Person('Li, Tianhe'), Person('Zhang, Tianjun'), Person('Matthews, Tim'), Person('Chou, Timothy'), Person('Shaked, Tzook'), Person('Vontimitta, Varun'), Person('Ajayi, Victoria'), Person('Montanez, Victoria'), Person('Mohan, Vijai'), Person('Kumar, Vinay Satish'), Person('Mangla, Vishal'), Person('Ionescu, Vlad'), Person('Poenaru, V.'), Person('Mihailescu, Vlad T.'), Person('Ivanov, Vladimir'), Person('Li, Wei'), Person('Wang, Wenchen'), Person('Jiang, Wenwen'), Person('Bouaziz, Wes'), Person('Constable, Will'), Person('Tang, Xia'), Person('Wang, Xiaofang'), Person('Wu, Xiaojian'), Person('Wang, Xiaolan'), Person('Xia, Xide'), Person('Wu, Xilun'), Person('Gao, Xinbo'), Person('Chen, Yanjun'), Person('Hu, Ye'), Person('Jia, Ye'), Person('Qi, Ye'), Person('Li, Yenda'), Person('Zhang, Yilin'), Person('Zhang, Ying'), Person('Adi, Yossi'), Person('Nam, Youngjin'), Person('Wang, Yu'), Person('Hao, Yuchen'), Person('Qian, Yundi'), Person('He, Yuzi'), Person('Rait, Zach'), Person('DeVito, Zachary'), Person('Rosnbrick, Zef'), Person('Wen, Zhaoduo'), Person('Yang, Zhenyu'), Person('Zhao, Zhiwei')])])))]),\n",
       "\n",
       "  preamble=[])"
      ]
     },
     "execution_count": 46,
     "metadata": {},
     "output_type": "execute_result"
    }
   ],
   "source": [
    "from pybtex import database\n",
    "\n",
    "database.parse_string(test_str, bib_format='bibtex')"
   ]
  },
  {
   "cell_type": "code",
   "execution_count": 52,
   "metadata": {},
   "outputs": [
    {
     "ename": "TypeError",
     "evalue": "Engine.format_from_string() missing 1 required positional argument: 'self'",
     "output_type": "error",
     "traceback": [
      "\u001b[0;31m---------------------------------------------------------------------------\u001b[0m",
      "\u001b[0;31mTypeError\u001b[0m                                 Traceback (most recent call last)",
      "Cell \u001b[0;32mIn[52], line 5\u001b[0m\n\u001b[1;32m      3\u001b[0m style \u001b[38;5;241m=\u001b[39m plain\u001b[38;5;241m.\u001b[39mStyle()\n\u001b[1;32m      4\u001b[0m eng \u001b[38;5;241m=\u001b[39m pybtex\u001b[38;5;241m.\u001b[39mEngine\n\u001b[0;32m----> 5\u001b[0m \u001b[43meng\u001b[49m\u001b[38;5;241;43m.\u001b[39;49m\u001b[43mformat_from_string\u001b[49m\u001b[43m(\u001b[49m\u001b[43mbib_string\u001b[49m\u001b[38;5;241;43m=\u001b[39;49m\u001b[43mtest_str\u001b[49m\u001b[43m)\u001b[49m\n",
      "\u001b[0;31mTypeError\u001b[0m: Engine.format_from_string() missing 1 required positional argument: 'self'"
     ]
    }
   ],
   "source": [
    "import pybtex\n",
    "from pybtex.style.formatting import plain\n",
    "style = plain.Style()\n",
    "eng = pybtex.Engine\n",
    "eng.format_from_string(bib_string=test_str)"
   ]
  },
  {
   "cell_type": "code",
   "execution_count": null,
   "metadata": {},
   "outputs": [],
   "source": [
    "from pytex import "
   ]
  },
  {
   "cell_type": "code",
   "execution_count": 45,
   "metadata": {},
   "outputs": [
    {
     "ename": "AttributeError",
     "evalue": "'Style' object has no attribute 'format_from_string'",
     "output_type": "error",
     "traceback": [
      "\u001b[0;31m---------------------------------------------------------------------------\u001b[0m",
      "\u001b[0;31mAttributeError\u001b[0m                            Traceback (most recent call last)",
      "Cell \u001b[0;32mIn[45], line 15\u001b[0m\n\u001b[1;32m     12\u001b[0m backend \u001b[38;5;241m=\u001b[39m html\u001b[38;5;241m.\u001b[39mBackend()\n\u001b[1;32m     14\u001b[0m \u001b[38;5;66;03m# Format the bibliography\u001b[39;00m\n\u001b[0;32m---> 15\u001b[0m formatted_bibliography \u001b[38;5;241m=\u001b[39m \u001b[43mstyle\u001b[49m\u001b[38;5;241;43m.\u001b[39;49m\u001b[43mformat_from_string\u001b[49m(test_str)\n\u001b[1;32m     17\u001b[0m \u001b[38;5;66;03m# Render the formatted bibliography using the chosen backend\u001b[39;00m\n\u001b[1;32m     18\u001b[0m rendered_bibliography \u001b[38;5;241m=\u001b[39m backend\u001b[38;5;241m.\u001b[39mrender_bibliography(formatted_bibliography)\n",
      "\u001b[0;31mAttributeError\u001b[0m: 'Style' object has no attribute 'format_from_string'"
     ]
    }
   ],
   "source": [
    "from pybtex.database import parse_file\n",
    "from pybtex.style.formatting import plain\n",
    "from pybtex.backends import html, latex, markdown, plaintext\n",
    "\n",
    "# Parse the .bib file\n",
    "# bib_data = parse_file(\"my_references.bib\")\n",
    "\n",
    "# Choose a formatting style (e.g., plain, unsrt, alpha)\n",
    "style = plain.Style()\n",
    "\n",
    "# Choose a backend for output (e.g., html, latex, markdown, plaintext)\n",
    "backend = html.Backend()\n",
    "\n",
    "# Format the bibliography\n",
    "formatted_bibliography = style.format_from_string(test_str)\n",
    "\n",
    "# Render the formatted bibliography using the chosen backend\n",
    "rendered_bibliography = backend.render_bibliography(formatted_bibliography)"
   ]
  },
  {
   "cell_type": "markdown",
   "metadata": {},
   "source": [
    "# Segment Information Extraction"
   ]
  },
  {
   "cell_type": "code",
   "execution_count": 17,
   "metadata": {},
   "outputs": [],
   "source": [
    "import json\n",
    "\n",
    "processed_file_path = \"pdf_processed_wip_20250212.json\"\n",
    "\n",
    "with open(processed_file_path, 'r') as file:\n",
    "    processed_json = json.load(file)"
   ]
  },
  {
   "cell_type": "markdown",
   "metadata": {},
   "source": [
    "## Segments Mapping"
   ]
  },
  {
   "cell_type": "markdown",
   "metadata": {},
   "source": [
    "## Topic Analysis"
   ]
  },
  {
   "cell_type": "code",
   "execution_count": 33,
   "metadata": {},
   "outputs": [],
   "source": [
    "import os\n",
    "from google import genai\n",
    "from google.genai import types\n",
    "\n",
    "def llm_gen(api_key, model_name, qa_prompt, sys_prompt=None, temperature=0.3):\n",
    "    client = genai.Client(api_key=api_key)\n",
    "    config = types.GenerateContentConfig(\n",
    "        system_instruction=sys_prompt,\n",
    "        temperature=temperature)\n",
    "    response = client.models.generate_content(\n",
    "        model=model_name, \n",
    "        contents=qa_prompt,\n",
    "        config=config)\n",
    "    return response.text\n",
    "\n",
    "def llm_gen_w_images(api_key, model_name, qa_prompt, pil_images, sys_prompt=None, temperature=0.3):\n",
    "    \"\"\"q&a with images\n",
    "    Args:\n",
    "        pil_images:\n",
    "            import PIL.Image\n",
    "            image = PIL.Image.open('/path/to/image.png')\n",
    "    \"\"\"\n",
    "\n",
    "    client = genai.Client(api_key=api_key)\n",
    "\n",
    "    config = types.GenerateContentConfig(\n",
    "        system_instruction=sys_prompt,\n",
    "        temperature=temperature)\n",
    "\n",
    "    response = client.models.generate_content(\n",
    "        model=model_name,  #　\"gemini-2.0-flash-exp\",\n",
    "        contents=[qa_prompt]+pil_images,\n",
    "        config=config)\n",
    "\n",
    "    return response.text"
   ]
  },
  {
   "cell_type": "code",
   "execution_count": 34,
   "metadata": {},
   "outputs": [],
   "source": [
    "topics_example_json = {\n",
    "  \"topics\": [\n",
    "    {\n",
    "      \"topic\": \"Performance Advantages of Transformer Networks over RNNs in Machine Translation Tasks\",\n",
    "      \"description\": \"This topic broadly concerns the comparison of Transformer networks and Recurrent Neural Networks (RNNs) in the context of machine translation, focusing on the superior performance characteristics of Transformers.\",\n",
    "      \"summary\": \"The provided text focuses on the significant performance advantages of Transformer networks over traditional Recurrent Neural Network (RNN) based models in machine translation tasks. It argues, based on presented empirical evidence, that Transformers achieve higher BLEU scores, indicating better translation quality, across multiple language pairs and datasets.  The authors specifically attribute this superior performance to the self-attention mechanism within Transformers, which allows for more effective capture of long-range dependencies in the input text compared to the sequential processing inherent in RNNs. The text cites experimental results demonstrating faster training times for Transformers due to their parallelizable architecture, contrasting this with the inherent sequential bottleneck of RNNs.  While acknowledging the potential computational cost of Transformers for extremely long sequences, the authors downplay this limitation in the context of typical machine translation scenarios. They further support their claims by comparing Transformers to convolutional models, arguing for the greater suitability of attention mechanisms for natural language processing. The paper concludes that the shift from recurrent to attention-based models, exemplified by Transformers, represents a major advancement in the field of machine translation. The authors mention, but do not extensively analyze, the limitations imposed by dataset size on the Transformer performance.\"\n",
    "    },\n",
    "    {\n",
    "        \"topic\": \"Role of Multi-Headed Scaled Dot-Product Self-Attention in Enhancing Contextual Understanding within Transformer Networks\",\n",
    "        \"description\": \"This topic encompasses the specific type of self-attention (scaled dot-product) and its multi-headed variant used in Transformer networks, and how these mechanisms contribute to the model's ability to understand context within input sequences.\",\n",
    "        \"summary\": \"The provided paragraphs delve into the critical role of multi-headed scaled dot-product self-attention in enhancing contextual understanding within Transformer networks. It explains that self-attention allows each word in a sentence to attend to all other words, including itself, to derive a context-aware representation. The scaled dot-product mechanism is presented as a computationally efficient way to calculate attention weights, preventing issues that can arise with large dot products. The text emphasizes the significance of the 'multi-headed' aspect, where multiple self-attention operations are performed in parallel, each learning different aspects of the relationships between words.  This allows the model to capture diverse contextual nuances, such as syntactic and semantic dependencies, simultaneously. The authors argue that this multi-headed approach is crucial for capturing the richness of human language. They contrast this with simpler attention mechanisms, highlighting the ability of multi-headed attention to learn multiple 'representation subspaces'.  The text provides a brief mathematical overview of the scaled dot-product calculation, reinforcing its efficiency and effectiveness. The authors posit that without multi-headed attention, the Transformer's ability to model complex language structures would be significantly diminished. They conclude by highlighting the importance for future works, such as model interpretability and analysis.\"\n",
    "    }\n",
    "  ]\n",
    "}\n",
    "\n",
    "topics_prompt = \"\"\"You are a sophisticated academic scholar with expertise in {domain}. \n",
    "You are renowned for your ability to grasp the key topics and ideas of research papers which are significant and insightful.\n",
    "\n",
    "## TASK\n",
    "You are provided with a section extracted from an academic paper.\n",
    "Analyze the provided information and identify key academic topics discussed.  \n",
    "For each topic, generate a JSON object containing the following:\n",
    "\n",
    "*   `topic`: A precise and information-rich name for the topic. This should be as specific as possible, potentially combining multiple concepts to accurately reflect the nuanced discussion in the text.  (e.g., 'Application of Transformer Networks to Machine Translation', 'Impact of Multi-Headed Self-Attention on Long-Range Dependency Capture in Transformers').\n",
    "*   `description`: A concise, general definition of the topic (1-2 sentences). Imagine you are explaining it to a colleague *unfamiliar* with the specific paper, but familiar with AI/NLP in general.  Keep the definition broad enough to encompass the general concept, even if the topic name is very specific.\n",
    "*   `summary`: A detailed summary (7-10 sentences) of the topic's treatment *within the provided text*. This should include:\n",
    "    *   The specific arguments made about the topic.\n",
    "    *   Any evidence or examples the authors use related to the topic.\n",
    "    *   The authors' conclusions or claims regarding the topic.\n",
    "    *   Any limitations or critiques of the topic presented by the authors.\n",
    "    *   Any comparisons to other related concepts or methods.\n",
    "\n",
    "Output your entire response as a single, valid JSON object. The highest level should be a list called 'topics'.\n",
    "\n",
    "\n",
    "## EXAMPLE\n",
    "Example (using a hypothetical excerpt about Transformer Networks):\n",
    "\n",
    "```json\n",
    "{example_json}\n",
    "```\n",
    "\n",
    "## INPUT\n",
    "Here are text of the paper section in markdown format:\n",
    "```markdown\n",
    "{markdown_text}\n",
    "```\n",
    "\n",
    "{further_information}\n",
    "\n",
    "## OUTPUT\n",
    "Now get started!\n",
    "\n",
    "\"\"\""
   ]
  },
  {
   "cell_type": "code",
   "execution_count": null,
   "metadata": {},
   "outputs": [
    {
     "name": "stderr",
     "output_type": "stream",
     "text": [
      "2025-02-12 15:58:22,514 - INFO - AFC is enabled with max remote calls: 10.\n"
     ]
    }
   ],
   "source": [
    "import json\n",
    "import time\n",
    "import PIL.Image\n",
    "\n",
    "api_key = os.getenv('GEMINI_API_KEY_1')\n",
    "temperature = 0.7\n",
    "domain = \"Artificial Intelligence and LLMs\"\n",
    "tmp_path = \"/home/jiezi/Code/Temp/tmp/2412.06769v2\"\n",
    "\n",
    "\n",
    "\n",
    "responses = []\n",
    "for section in processed_json[3:4]:\n",
    "    title = section.get('title')\n",
    "    md_text = section.get('refined_text')\n",
    "    images = section.get('images')\n",
    "    if title not in [\"References\", \"Acknowledgments\"] and len(md_text) > 200:\n",
    "        imgs_prompt = \"\"\n",
    "        pil_images = []\n",
    "        if len(images) > 0:\n",
    "            img_info = \"\"\n",
    "            for img in images:\n",
    "                img_title = img.get('title')\n",
    "                img_url = os.path.join(tmp_path, img.get('img_path'))\n",
    "                pil_images.append(PIL.Image.open(img_url))\n",
    "                img_info += f\"- title: {img_title}  attached image: {os.path.basename(img_url)} \\n\"\n",
    "            imgs_prompt = f\"Here are images mentioned in markdown text:\\n{img_info}\"\n",
    "        \n",
    "            qa_prompt = topics_prompt.format(\n",
    "                domain = domain,\n",
    "                example_json = json.dumps(topics_example_json, ensure_ascii=False), \n",
    "                markdown_text = md_text,\n",
    "                further_information = imgs_prompt)\n",
    "\n",
    "            res = llm_gen_w_images(\n",
    "                api_key=api_key, model_name='gemini-2.0-flash-thinking-exp', \n",
    "                qa_prompt=qa_prompt, pil_images=pil_images, sys_prompt=None, temperature=0.6)\n",
    "\n",
    "        else:\n",
    "            qa_prompt = topics_prompt.format(\n",
    "                domain = domain,\n",
    "                example_json = json.dumps(topics_example_json, ensure_ascii=False), \n",
    "                markdown_text = md_text,\n",
    "                further_information = \"\")\n",
    "\n",
    "            res = llm_gen(\n",
    "                api_key=api_key, model_name='gemini-2.0-flash-thinking-exp', \n",
    "                qa_prompt=qa_prompt, sys_prompt=None, temperature=0.6)\n",
    "        responses.append(res)\n",
    "        time.sleep(5)"
   ]
  },
  {
   "cell_type": "markdown",
   "metadata": {},
   "source": [
    "## Research Comprehension"
   ]
  },
  {
   "cell_type": "code",
   "execution_count": null,
   "metadata": {},
   "outputs": [],
   "source": [
    "sys_prompt = \"You are a researcher in the field of '{subject}' who is good at summarizing papers using concise statements.\"\n",
    "\n",
    "summary_prompt = \"\"\" ## INSTRUCTION\n",
    "Given abstraction and introduction paragraph from the paper, you are asked to:                   \n",
    "1. identify the keywords of this article;\n",
    "2. summarize according to the following four points\n",
    "- (1): What is the research background of this article? What problem is this paper trying to solve? \n",
    "- (2): What are the relevant studies? What are the past methods? What are the issues with them? Is the approach well motivated?\n",
    "- (3): How does the paper solve this problem? What is the research methodology proposed in this paper?\n",
    "- (4): What experiments were done in the paper? On what task and what performance is achieved by the methods in this paper? Can the performance support their goals?\n",
    "- (5): Are there unsolved issues with the paper? What gaps can be explored further? Any suggestions?\n",
    "\n",
    "## CONTEXT\n",
    "Here are abstraction from the paper:\n",
    "<abstraction>\n",
    "{abstraction}\n",
    "</abstraction>\n",
    "\n",
    "Here are introduction from the paper:\n",
    "<introduction>\n",
    "{introduction}\n",
    "</introduction>\n",
    "\n",
    "## OUTPUT\n",
    "Follow the format of the output that follows: \n",
    "```text                            \n",
    "1. Keywords: xxx\\n\\n     \n",
    "2. Summary: \\n\\n\n",
    "- (1):xxx;\\n \n",
    "- (2):xxx;\\n \n",
    "- (3):xxx;\\n  \n",
    "- (4):xxx.\\n\\n     \n",
    "- (5):xxx.\\n\\n  \n",
    "```\n",
    "\n",
    "Be sure to use {lang} answers (proper nouns need to be marked in English), statements as concise and academic as possible.\n",
    "Do not have too much repetitive information, numerical values using the original numbers.\n",
    "Be sure to strictly follow the format, the corresponding content output to xxx, in accordance with \\n line feed.                 \n",
    "\"\"\"\n",
    "\n",
    "method_prompt = \"\"\"## INSTRUCTION\n",
    "Given method paragraph and a summary of a paper, you are asked to describe in detail the methodological idea of this article. \n",
    "- (1):...\n",
    "- (2):...\n",
    "- (3):...\n",
    "- .......\n",
    "\n",
    "## CONTEXT\n",
    "Here are method paragraph:\n",
    "<method>\n",
    "{method}\n",
    "</method>\n",
    "\n",
    "Here are summary of the paper fyi:\n",
    "<summary>\n",
    "{summary}\n",
    "</summary>\n",
    "\n",
    "## OUTPUT\n",
    "Follow the format of the output that follows: \n",
    "```text\n",
    "3. Methods: \\n\\n\n",
    "- (1):xxx;\\n \n",
    "- (2):xxx;\\n \n",
    "- (3):xxx;\\n  \n",
    "....... \\n\\n     \n",
    "```\n",
    "Be sure to use {lang} answers (proper nouns need to be marked in English), statements as concise and academic as possible.\n",
    "Do not repeat the content of the previous <summary>, the value of the use of the original numbers.\n",
    "Be sure to strictly follow the format, the corresponding content output to xxx, in accordance with \\n line feed, ....... means fill in according to the actual requirements.                 \n",
    "\"\"\"\n",
    " \n",
    "conclusion_prompt = \"\"\"## INSTRUCTION\n",
    "Given conclusion paragraph and a summary of a paper, you are asked to: \n",
    "4. Make the following summary:\n",
    "- (1):What is the significance of this piece of work?\n",
    "- (2):Summarize the strengths and weaknesses of this article in three dimensions: innovation point, performance, and workload.                   \n",
    ".......\n",
    "\n",
    "    \"contribution\": \"What is the contribution of this paper?\",\n",
    "    \"novelty\": \"What is the novelty of this paper?\",\n",
    "    \"strength\": \"What are the strengths of this paper?\",\n",
    "    \"drawback\": \"What are the drawbacks of this paper?\",\n",
    "    \"improvement\": \"What might be the improvements of this paper?\",\n",
    "\n",
    "\n",
    "## CONTEXT\n",
    "Here are conclusion paragraph:\n",
    "<conclusion>\n",
    "{conclusion}\n",
    "</conclusion>\n",
    "\n",
    "Here are summary of the paper fyi:\n",
    "<summary>\n",
    "{summary}\n",
    "</summary>\n",
    "\n",
    "## OUTPUT\n",
    "Follow the format of the output later: \n",
    "```text\n",
    "4. Conclusion: \\n\\n\n",
    "- (1):xxx;\\n                     \n",
    "- (2):Innovation point: xxx; Performance: xxx; Workload: xxx;\\n    \n",
    "- (3):\n",
    "    contribution: What is the contribution of this paper?,\n",
    "    novelty: What is the novelty of this paper?,\n",
    "    strength\": What are the strengths of this paper?,\n",
    "    drawback: What are the drawbacks of this paper?,\n",
    "    improvement\": What might be the improvements of this paper?\n",
    "```\n",
    "\n",
    "Be sure to use {lang} answers (proper nouns need to be marked in English), statements as concise and academic as possible.\n",
    "Do not repeat the content of the previous <summary>, the value of the use of the original numbers.\n",
    "Be sure to strictly follow the format, the corresponding content output to xxx, in accordance with \\n line feed, ....... means fill in according to the actual requirements.                 \n",
    "\"\"\""
   ]
  },
  {
   "cell_type": "markdown",
   "metadata": {},
   "source": [
    "# Highlight and Investigation"
   ]
  },
  {
   "cell_type": "markdown",
   "metadata": {},
   "source": [
    "# Conclusion"
   ]
  },
  {
   "cell_type": "markdown",
   "metadata": {},
   "source": []
  }
 ],
 "metadata": {
  "kernelspec": {
   "display_name": "jiezi4ai",
   "language": "python",
   "name": "python3"
  },
  "language_info": {
   "codemirror_mode": {
    "name": "ipython",
    "version": 3
   },
   "file_extension": ".py",
   "mimetype": "text/x-python",
   "name": "python",
   "nbconvert_exporter": "python",
   "pygments_lexer": "ipython3",
   "version": "3.10.16"
  }
 },
 "nbformat": 4,
 "nbformat_minor": 2
}
