{
 "cells": [
  {
   "cell_type": "code",
   "execution_count": null,
   "metadata": {},
   "outputs": [],
   "source": [
    "import os\n",
    "from neo4j import GraphDatabase\n",
    "\n",
    "URI = \"bolt://localhost:7687\"  # Replace with your Neo4j URI\n",
    "AUTH = (\"neo4j\", \"password\")   # Replace with your Neo4j username and password\n",
    "\n",
    "driver = GraphDatabase.driver(URI, auth=AUTH)"
   ]
  },
  {
   "cell_type": "code",
   "execution_count": null,
   "metadata": {},
   "outputs": [],
   "source": [
    "def import_json_to_neo4j(tx, json_file_path):\n",
    "    query = \"\"\"\n",
    "    CALL apoc.load.json($file_path)\n",
    "    YIELD value AS data\n",
    "    UNWIND data.businesses AS business_json // Adjust based on your JSON structure\n",
    "    MERGE (business:Business {id: business_json.business_id})\n",
    "    SET business += business_json\n",
    "\n",
    "    UNWIND data.users AS user_json // Adjust based on your JSON structure\n",
    "    MERGE (user:User {id: user_json.user_id})\n",
    "    SET user += user_json\n",
    "\n",
    "    // Example: Creating relationships from reviews (adjust based on your JSON)\n",
    "    UNWIND data.reviews AS review_json\n",
    "    MERGE (review:Review {id: review_json.review_id})\n",
    "    SET review += review_json\n",
    "\n",
    "    MERGE (user_node:User {id: review_json.user_id})\n",
    "    MERGE (business_node:Business {id: review_json.business_id})\n",
    "    MERGE (user_node)-[:WROTE_REVIEW]->(review)-[:REVIEWS]->(business_node)\n",
    "    \"\"\"\n",
    "    tx.run(query, file_path=json_file_path)\n",
    "\n",
    "\n",
    "with driver.session() as session:\n",
    "    json_file_path = \"file:///path/to/your/data.json\" # Replace with the actual path to your JSON file (within Neo4j import directory or accessible via URL)\n",
    "    session.execute_write(import_json_to_neo4j, json_file_path=json_file_path)\n",
    "\n",
    "driver.close()"
   ]
  }
 ],
 "metadata": {
  "language_info": {
   "name": "python"
  }
 },
 "nbformat": 4,
 "nbformat_minor": 2
}
