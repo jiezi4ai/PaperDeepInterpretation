{
 "cells": [
  {
   "cell_type": "code",
   "execution_count": null,
   "metadata": {},
   "outputs": [],
   "source": []
  },
  {
   "cell_type": "markdown",
   "metadata": {},
   "source": [
    "# Neo4j Data Import"
   ]
  },
  {
   "cell_type": "markdown",
   "metadata": {},
   "source": [
    "## Paper Metadata Collection"
   ]
  },
  {
   "cell_type": "code",
   "execution_count": null,
   "metadata": {},
   "outputs": [],
   "source": [
    "title = \"Training Large Language Models to Reason in a Continuous Latent Space\""
   ]
  },
  {
   "cell_type": "code",
   "execution_count": null,
   "metadata": {},
   "outputs": [],
   "source": [
    "import sys\n",
    "import os\n",
    "\n",
    "# 获取当前脚本所在目录的父目录 (即 my_project)\n",
    "parent_dir = os.path.dirname(os.getcwd())\n",
    "\n",
    "# 将父目录添加到 sys.path\n",
    "sys.path.append(parent_dir)"
   ]
  },
  {
   "cell_type": "code",
   "execution_count": null,
   "metadata": {},
   "outputs": [],
   "source": [
    "from apis.arxiv_tool import ArxivKit\n",
    "from apis.semanticscholar_tool import SemanticScholarKit"
   ]
  },
  {
   "cell_type": "markdown",
   "metadata": {},
   "source": [
    "Arxiv Metadata"
   ]
  },
  {
   "cell_type": "code",
   "execution_count": null,
   "metadata": {},
   "outputs": [],
   "source": [
    "arxiv = ArxivKit()\n",
    "arxiv_metadata = arxiv.retrieve_metadata_by_paper(query_term=title, max_cnt=3)"
   ]
  },
  {
   "cell_type": "markdown",
   "metadata": {},
   "source": [
    "SemanticScholar Metadata"
   ]
  },
  {
   "cell_type": "code",
   "execution_count": null,
   "metadata": {},
   "outputs": [],
   "source": [
    "ss = SemanticScholarKit()\n",
    "ss_metadata = ss.search_paper_by_keywords(query=title, limit=3)"
   ]
  },
  {
   "cell_type": "code",
   "execution_count": null,
   "metadata": {},
   "outputs": [],
   "source": [
    "# paper_ss_id = ss_metadata[0][0].get('paperId')\n",
    "paper_ss_id = ss_metadata[0].get('paperId')\n",
    "print(paper_ss_id)"
   ]
  },
  {
   "cell_type": "markdown",
   "metadata": {},
   "source": [
    "Reference and Citedby data"
   ]
  },
  {
   "cell_type": "code",
   "execution_count": null,
   "metadata": {},
   "outputs": [],
   "source": [
    "reference_metadata = ss.get_semanticscholar_references(paper_id=paper_ss_id, limit=100)\n",
    "len(reference_metadata)"
   ]
  },
  {
   "cell_type": "code",
   "execution_count": null,
   "metadata": {},
   "outputs": [],
   "source": [
    "citedby_metadata = ss.get_semanticscholar_citedby(paper_id=paper_ss_id, limit=100)\n",
    "len(citedby_metadata)"
   ]
  },
  {
   "cell_type": "markdown",
   "metadata": {},
   "source": [
    "## Useful Functions"
   ]
  },
  {
   "cell_type": "markdown",
   "metadata": {},
   "source": [
    "### Metadata Preprocess"
   ]
  },
  {
   "cell_type": "code",
   "execution_count": null,
   "metadata": {},
   "outputs": [],
   "source": [
    "def move_key_to_first(input_dict, key_to_move):\n",
    "    \"\"\"将字典的某个键移动到第一位。\"\"\"\n",
    "    if key_to_move not in input_dict:\n",
    "        return input_dict  # 如果键不存在，则直接返回原字典\n",
    "\n",
    "    value = input_dict[key_to_move]\n",
    "    new_dict = {key_to_move: value} # 创建新字典，首先插入要移动的键\n",
    "    for k, v in input_dict.items():\n",
    "        if k != key_to_move:\n",
    "            new_dict[k] = v\n",
    "    return new_dict"
   ]
  },
  {
   "cell_type": "code",
   "execution_count": null,
   "metadata": {},
   "outputs": [],
   "source": [
    "def filter_dict_keys(input_dict, keys_to_keep):\n",
    "    \"\"\"使用字典推导式过滤并按指定键顺序调整字典。\"\"\"\n",
    "    return {key: input_dict[key] for key in keys_to_keep if key in input_dict}"
   ]
  },
  {
   "cell_type": "code",
   "execution_count": null,
   "metadata": {},
   "outputs": [],
   "source": [
    "import copy \n",
    "\n",
    "def remove_dict_keys(input_dict, keys_to_delete):\n",
    "    \"\"\"使用 del 关键字删除字典中特定的键。\"\"\"\n",
    "    opt_dct = copy.deepcopy(input_dict)\n",
    "    for key in keys_to_delete:\n",
    "        if key in opt_dct:  # 检查键是否存在，避免 KeyError\n",
    "            del opt_dct[key]\n",
    "    return opt_dct # 为了方便链式调用，返回修改后的字典"
   ]
  },
  {
   "cell_type": "code",
   "execution_count": null,
   "metadata": {},
   "outputs": [],
   "source": [
    "def remove_kth_element(original_list, k):\n",
    "    \"\"\"删除list中第k个元素 (不改变原list的值，仅返回新list)\"\"\"\n",
    "    if k <= 0 or k > len(original_list):\n",
    "        return list(original_list)  # 返回原list的副本，不改变原list\n",
    "    else:\n",
    "        new_list = list(original_list) # 创建原list的副本\n",
    "        new_list.pop(k - 1) # 删除索引为 k-1 的元素 (因为list索引是 0-based)\n",
    "        return new_list"
   ]
  },
  {
   "cell_type": "code",
   "execution_count": null,
   "metadata": {},
   "outputs": [],
   "source": [
    "import json\n",
    "\n",
    "def convert_dict_values_to_json(dict_data):\n",
    "    \"\"\"检查字典的值，如果值是字典类型，则将其转换为 JSON 字符串。\n",
    "    Args:\n",
    "        dict_data (dict): 输入字典。\n",
    "    Returns:\n",
    "        dict: 值被转换后的字典。\n",
    "    \"\"\"\n",
    "    modified_dict = {}\n",
    "    for key, value in dict_data.items():\n",
    "        if isinstance(value, dict):\n",
    "            modified_dict[key] = json.dumps(value, ensure_ascii=False)\n",
    "        else:\n",
    "            modified_dict[key] = value\n",
    "    return modified_dict"
   ]
  },
  {
   "cell_type": "code",
   "execution_count": null,
   "metadata": {},
   "outputs": [],
   "source": [
    "def rename_dict_key(input_dict, old_key, new_key):\n",
    "  \"\"\"rename old key in dict to new key\n",
    "  \"\"\"\n",
    "  return {(new_key if k == old_key else k): v for k, v in input_dict.items()}"
   ]
  },
  {
   "cell_type": "code",
   "execution_count": null,
   "metadata": {},
   "outputs": [],
   "source": [
    "from collections import Counter\n",
    "\n",
    "def count_and_sort_combinations(list_of_dicts, keys):\n",
    "  \"\"\"统计字典列表中指定键的不同属性值组合的计数，并从高到低排列。\n",
    "  Args:\n",
    "    list_of_dicts: 包含字典的列表。\n",
    "    keys: 用于统计的键列表。\n",
    "  Returns:\n",
    "    按计数降序排列的属性值组合及其计数列表。\n",
    "  \"\"\"\n",
    "  combinations = []\n",
    "  for d in list_of_dicts:\n",
    "    # 提取指定键的值，并组成一个元组\n",
    "    values = tuple(d.get(key) for key in keys)\n",
    "    combinations.append(values)\n",
    "\n",
    "  # 使用 Counter 统计每个组合的出现次数\n",
    "  counts = Counter(combinations)\n",
    "\n",
    "  # 按计数降序排序\n",
    "  sorted_counts = counts.most_common()\n",
    "  return sorted_counts"
   ]
  },
  {
   "cell_type": "markdown",
   "metadata": {},
   "source": [
    "### Json Import to Neo4j"
   ]
  },
  {
   "cell_type": "markdown",
   "metadata": {},
   "source": [
    "For better alignment of data types:\n",
    "- separate by node and relationship types\n",
    "- first mapping data types between neo4j, then import data\n",
    "- import nodes and relationships separately"
   ]
  },
  {
   "cell_type": "code",
   "execution_count": null,
   "metadata": {},
   "outputs": [],
   "source": [
    "import json\n",
    "from neo4j import GraphDatabase  # pip install neo4j https://github.com/neo4j/neo4j-python-driver\n",
    "# import jsonschema  # pip install jsonschema https://github.com/python-jsonschema/jsonschema\n",
    "# from jsonschema import Draft7Validator\n",
    "\n",
    "neo4j_uri = \"bolt://localhost:7687\"  # 替换为你的 Neo4j Bolt URI\n",
    "neo4j_user = \"neo4j\"           # 替换为你的 Neo4j 用户名\n",
    "neo4j_password = \"25216590\"      # 替换为你的 Neo4j 密码\n",
    "database = \"paper-graph-v0-1\""
   ]
  },
  {
   "cell_type": "code",
   "execution_count": null,
   "metadata": {},
   "outputs": [],
   "source": [
    "def is_neo4j_compatible(value):\n",
    "    \"\"\"检查值是否可被Neo4j存储为属性（基本类型或其数组）\"\"\"\n",
    "    if isinstance(value, (str, int, float, bool, type(None))):\n",
    "        return True\n",
    "    elif isinstance(value, list):\n",
    "        return all(is_neo4j_compatible(item) for item in value)\n",
    "    else:\n",
    "        return False\n",
    "\n",
    "def import_json_to_neo4j(processed_data, uri, username, password, database):\n",
    "    driver = GraphDatabase.driver(uri, auth=(username, password))\n",
    "\n",
    "    with driver.session(database=database) as session:\n",
    "        for item in processed_data:\n",
    "            if item['type'] == 'node':\n",
    "                labels = \":\".join(item['labels'])\n",
    "                parameters = {\"id\": item['id']}\n",
    "                set_clauses = []\n",
    "\n",
    "                if item.get('properties') and isinstance(item['properties'], dict):\n",
    "                    for key, value in item['properties'].items():\n",
    "                        if is_neo4j_compatible(value):\n",
    "                            parameters[key] = value\n",
    "                        else:\n",
    "                            # 序列化非兼容类型为JSON字符串\n",
    "                            parameters[key] = json.dumps(value, ensure_ascii=False)\n",
    "                        set_clauses.append(f\"n.{key} = ${key}\")\n",
    "\n",
    "                merge_query = f\"MERGE (n:{labels} {{id: $id}})\"\n",
    "                if set_clauses:\n",
    "                    set_query = \"SET \" + \", \".join(set_clauses)\n",
    "                    cypher_query = f\"\"\"\n",
    "                        {merge_query}\n",
    "                        ON CREATE {set_query}\n",
    "                        ON MATCH {set_query}\n",
    "                    \"\"\"\n",
    "                else:\n",
    "                    cypher_query = merge_query\n",
    "                cypher_query += \" RETURN n\"\n",
    "                session.run(cypher_query, parameters)\n",
    "\n",
    "            elif item['type'] == 'relationship':\n",
    "                rel_type = item['relationshipType']\n",
    "                parameters = {\"startId\": item['startNodeId'], \"endId\": item['endNodeId']}\n",
    "                set_clauses = []\n",
    "\n",
    "                if item.get('properties') and isinstance(item['properties'], dict):\n",
    "                    for key, value in item['properties'].items():\n",
    "                        if is_neo4j_compatible(value):\n",
    "                            parameters[key] = value\n",
    "                        else:\n",
    "                            parameters[key] = json.dumps(value, ensure_ascii=False)\n",
    "                        set_clauses.append(f\"r.{key} = ${key}\")\n",
    "\n",
    "                cypher_query = f\"\"\"\n",
    "                    MATCH (a {{id: $startId}}), (b {{id: $endId}})\n",
    "                    MERGE (a)-[r:{rel_type}]->(b)\n",
    "                \"\"\"\n",
    "                if set_clauses:\n",
    "                    set_query = \"SET \" + \", \".join(set_clauses)\n",
    "                    cypher_query += f\"\"\"\n",
    "                        ON CREATE {set_query}\n",
    "                        ON MATCH {set_query}\n",
    "                    \"\"\"\n",
    "                cypher_query += \" RETURN r\"\n",
    "                session.run(cypher_query, parameters)\n",
    "\n",
    "    driver.close()"
   ]
  },
  {
   "cell_type": "markdown",
   "metadata": {},
   "source": [
    "## Paper Metadata Import"
   ]
  },
  {
   "cell_type": "markdown",
   "metadata": {},
   "source": [
    "### SemanticScholar Paper Metadata"
   ]
  },
  {
   "cell_type": "code",
   "execution_count": null,
   "metadata": {},
   "outputs": [],
   "source": [
    "import re \n",
    "from typing import List, Dict\n",
    "\n",
    "def ss_papermeta_process(ss_metadata:List[Dict]):\n",
    "    ss_papermeta_json = []\n",
    "    # for node json\n",
    "    # ss_papermeta_paper_json, ss_papermeta_author_json, ss_papermeta_journal_json, ss_papermeta_venue_json = [], [], [], []\n",
    "    # for relationship json\n",
    "    # ss_papermeta_author_paper_json, ss_papermeta_paper_journal_json, ss_papermeta_paper_venue_json = [], [], []\n",
    "\n",
    "    for item in ss_metadata:\n",
    "        item = rename_dict_key(item, 'url', 'ssUrl')\n",
    "        item = rename_dict_key(item, 'paperId', 'ssPaperId')\n",
    "        paper_id = item.get('ssPaperId')  # semantic scholar paper id\n",
    "\n",
    "        if paper_id is not None:\n",
    "            arxiv_id = item.get('externalIds',{}).get('ArXiv')  # arxiv id\n",
    "            if arxiv_id is not None:\n",
    "                arxiv_no = arxiv_id.replace('10.48550/arXiv.', '') \n",
    "                arxiv_id = re.sub(r'v\\d+$', '', arxiv_no)\n",
    "                version_match = re.search(r'v\\d+$', arxiv_no)\n",
    "                # generate arxiv related info\n",
    "                item['version'] = version_match.group(0) if version_match else \"\"\n",
    "                item['arxivUrl'] = f\"https://arxiv.org/abs/{arxiv_no}\"\n",
    "                item['isOpenAccess'] = True, \n",
    "                item['openAccessPdf'] = f\"https://arxiv.org/pdf/{arxiv_no}\"\n",
    "            item['arxivId'] = arxiv_id\n",
    "\n",
    "            doi = item.get('externalIds',{}).get('DOI')  # doi\n",
    "            if doi is None and arxiv_id is not None:\n",
    "                doi = f\"10.48550/arXiv.{arxiv_id}\"  # assign 10.48550/arXiv. for arxiv id https://info.arxiv.org/help/doi.html\n",
    "            item['DOI'] = doi\n",
    "\n",
    "            # for unique id\n",
    "            if arxiv_id is not None:\n",
    "                id = f\"10.48550/arXiv.{arxiv_id}\"\n",
    "            elif doi is not None:\n",
    "                id = doi\n",
    "            else:\n",
    "                id = paper_id\n",
    "            item['id'] = id\n",
    "\n",
    "            authors = item.get('authors', [])[:10] if item.get('authors', []) is not None else []\n",
    "            journal = item.get('journal', {}) if item.get('journal', {}) is not None else {}\n",
    "            venue = item.get('publicationVenue', {}) if item.get('publicationVenue', {}) is not None else {}\n",
    "            \n",
    "            # process paper node\n",
    "            paper_node = {\n",
    "                \"type\": \"node\",\n",
    "                \"id\": id,\n",
    "                \"labels\": [\"Paper\"],\n",
    "                \"properties\": item\n",
    "                }\n",
    "            # ss_papermeta_paper_json.append(paper_node)\n",
    "            ss_papermeta_json.append(paper_node)\n",
    "\n",
    "            for idx, author in enumerate(authors[:10]):\n",
    "                # process author node\n",
    "                author_id = author.get('authorId')\n",
    "                if author_id is not None:\n",
    "                    author_node = {\n",
    "                        \"type\": \"node\",\n",
    "                        \"id\": author.get('authorId'),\n",
    "                        \"labels\": [\"Author\"],\n",
    "                        \"properties\": author}\n",
    "                    # ss_papermeta_author_json.append(author_node)\n",
    "                    ss_papermeta_json.append(author_node)\n",
    "                \n",
    "                    # process author -> WRITES -> paper\n",
    "                    author_order = idx + 1\n",
    "                    coauthors = remove_kth_element(authors, idx)\n",
    "                    author_paper_relationship = {\n",
    "                        \"type\": \"relationship\",\n",
    "                        \"relationshipType\": \"WRITES\",\n",
    "                        \"startNodeId\": author_id,\n",
    "                        \"endNodeId\": id,\n",
    "                        \"properties\": {'authorOrder': author_order, 'coauthors': coauthors}\n",
    "                        }\n",
    "                    # ss_papermeta_author_paper_json.append(author_paper_relationship)\n",
    "                    ss_papermeta_json.append(author_paper_relationship)\n",
    "\n",
    "            journal_name = journal.get('name')\n",
    "            if journal_name is not None:\n",
    "                # process journal node\n",
    "                journal_node = {\n",
    "                    \"type\": \"node\",\n",
    "                    \"id\": journal_name,\n",
    "                    \"labels\": [\"Journal\"],\n",
    "                    \"properties\": {\"name\": journal_name}}\n",
    "                # ss_papermeta_journal_json.append(journal_node)\n",
    "                ss_papermeta_json.append(journal_node)\n",
    "                \n",
    "                if 'arxiv' not in journal_name.lower():  # journal可能会有大量热点，预先进行排除\n",
    "                    # process paper -> PRINTS_ON -> journal\n",
    "                    paper_journal_relationship = {\n",
    "                    \"type\": \"relationship\",\n",
    "                    \"relationshipType\": \"PRINTS_ON\",\n",
    "                    \"startNodeId\": id,\n",
    "                    \"endNodeId\": journal_name,\n",
    "                    \"properties\": journal}\n",
    "                    # ss_papermeta_paper_journal_json.append(paper_journal_relationship)\n",
    "                    ss_papermeta_json.append(paper_journal_relationship)\n",
    "\n",
    "            venue_id = venue.get('id')\n",
    "            if venue_id is not None:\n",
    "                # process venue node\n",
    "                venue_node = {\n",
    "                    \"type\": \"node\",\n",
    "                    \"id\": venue_id,\n",
    "                    \"labels\": [\"Venue\"],\n",
    "                    \"properties\": venue\n",
    "                    }\n",
    "                # ss_papermeta_venue_json.append(venue_node)\n",
    "                ss_papermeta_json.append(venue_node)\n",
    "                \n",
    "                # process paper -> RELEASES_IN -> venue\n",
    "                if 'arxiv' not in venue.get('name').lower():  # venue可能会有大量热点，预先进行排除\n",
    "                    paper_venue_relationship = {\n",
    "                    \"type\": \"relationship\",\n",
    "                    \"relationshipType\": \"RELEASES_IN\",\n",
    "                    \"startNodeId\": id,\n",
    "                    \"endNodeId\": venue_id,\n",
    "                    \"properties\": {}}\n",
    "                    # ss_papermeta_paper_venue_json.append(paper_venue_relationship)\n",
    "                    ss_papermeta_json.append(paper_venue_relationship)\n",
    "    return ss_papermeta_json"
   ]
  },
  {
   "cell_type": "code",
   "execution_count": null,
   "metadata": {},
   "outputs": [],
   "source": [
    "ss_papermeta_json = ss_papermeta_process(ss_metadata)\n",
    "len(ss_papermeta_json)"
   ]
  },
  {
   "cell_type": "code",
   "execution_count": null,
   "metadata": {},
   "outputs": [],
   "source": [
    "import_json_to_neo4j(processed_data=ss_papermeta_json, uri=neo4j_uri, username=neo4j_user, password=neo4j_password, database=database)"
   ]
  },
  {
   "cell_type": "markdown",
   "metadata": {},
   "source": [
    "### Arxiv Paper Metadata"
   ]
  },
  {
   "cell_type": "code",
   "execution_count": null,
   "metadata": {},
   "outputs": [],
   "source": [
    "import re\n",
    "\n",
    "def arxiv_papermeta_process(arxiv_metadata: List[Dict]):\n",
    "    arxiv_papermeta_json = []\n",
    "\n",
    "    for item in arxiv_metadata:\n",
    "        # id\n",
    "        arxiv_no = item.get('id').split('/')[-1]\n",
    "        arxiv_id = re.sub(r'v\\d+$', '', arxiv_no)\n",
    "        id = f\"10.48550/arXiv.{arxiv_id}\"\n",
    "        \n",
    "        # version\n",
    "        version_match = re.search(r'v\\d+$', arxiv_no)\n",
    "        version = version_match.group(0) if version_match else \"\"\n",
    "\n",
    "        # time conversion\n",
    "        updationDate = item.get('updated')[0:10]\n",
    "        publicationDate = item.get('published')[0:10]\n",
    "\n",
    "        # supplement information\n",
    "        journal = {'name': 'ArXiv', 'volume': f'abs/{arxiv_no}'}\n",
    "        publicationVenue = {'id': '1901e811-ee72-4b20-8f7e-de08cd395a10',\n",
    "                    'name': 'arXiv.org',\n",
    "                    'alternate_names': ['ArXiv'],\n",
    "                    'issn': '2331-8422',\n",
    "                    'url': 'https://arxiv.org'}\n",
    "        \n",
    "        arxiv_info = {'id': id, 'version': version, 'arxivUrl': item.get('link'), \n",
    "                    'updationDate':updationDate, 'publicationDate':publicationDate,\n",
    "                    'title': item.get('title'), 'abstract': item.get('summary'), \n",
    "                    'arxivCategory': item.get('arxiv_primary_category'), 'arxivComment': item.get('arxiv_comment'),\n",
    "                    'arxivId': arxiv_id, 'DOI': arxiv_id, 'isOpenAccess': True, 'openAccessPdf': item.get('link').replace('/abs/', '/pdf/'),\n",
    "                    'journal': journal, 'publicationVenue': publicationVenue\n",
    "                    }\n",
    "        # process paper node\n",
    "        paper_node = {\n",
    "            \"type\": \"node\",\n",
    "            \"id\": id,\n",
    "            \"labels\": [\"Paper\"],\n",
    "            \"properties\": arxiv_info\n",
    "            }\n",
    "        arxiv_papermeta_json.append(paper_node)\n",
    "    return arxiv_papermeta_json"
   ]
  },
  {
   "cell_type": "code",
   "execution_count": null,
   "metadata": {},
   "outputs": [],
   "source": [
    "arxiv_papermeta_json = arxiv_papermeta_process(arxiv_metadata)\n",
    "print(len(arxiv_metadata), len(arxiv_papermeta_json))"
   ]
  },
  {
   "cell_type": "code",
   "execution_count": null,
   "metadata": {},
   "outputs": [],
   "source": [
    "import_json_to_neo4j(processed_data=arxiv_papermeta_json, uri=neo4j_uri, username=neo4j_user, password=neo4j_password, database=database)"
   ]
  },
  {
   "cell_type": "markdown",
   "metadata": {},
   "source": [
    "### SemanticScholar Reference Metadata"
   ]
  },
  {
   "cell_type": "markdown",
   "metadata": {},
   "source": [
    "Reference data process"
   ]
  },
  {
   "cell_type": "code",
   "execution_count": null,
   "metadata": {},
   "outputs": [],
   "source": [
    "def ss_refmeta_process(original_id, reference_metadata: List[Dict]):\n",
    "    ref_relationmeta_json = []  # store paper - CITES -> paer relationship\n",
    "    ref_paperdata_json = [] # for paper metadata, to be processed\n",
    "\n",
    "    for item in reference_metadata:\n",
    "        citedPaper = item.get('citedPaper')\n",
    "        if  citedPaper is not None and citedPaper.get('paperId') is not None:\n",
    "            ref_arxiv_id = citedPaper.get('externalIds',{}).get('ArXiv')  # arxiv id\n",
    "            if ref_arxiv_id is not None:\n",
    "                ref_arxiv_id = re.sub(r'v\\d+$', '', ref_arxiv_id.replace('10.48550/arXiv.', '') )\n",
    "\n",
    "            ref_doi = item.get('externalIds',{}).get('DOI')  # doi\n",
    "            if ref_doi is None and ref_arxiv_id is not None:\n",
    "                ref_doi = f\"10.48550/arXiv.{ref_arxiv_id}\"  # assign 10.48550/arXiv. for arxiv id https://info.arxiv.org/help/doi.html\n",
    "\n",
    "            # for unique id\n",
    "            if ref_arxiv_id is not None:\n",
    "                ref_id = f\"10.48550/arXiv.{ref_arxiv_id}\"\n",
    "            elif ref_doi is not None:\n",
    "                ref_id = ref_doi\n",
    "            else:\n",
    "                ref_id = citedPaper.get('paperId')\n",
    "            \n",
    "            if ref_id is not None: \n",
    "                # append paper meta\n",
    "                ref_paperdata_json.append(citedPaper)\n",
    "\n",
    "                # append relationship\n",
    "                properties = filter_dict_keys(item, ['isInfluential', 'contexts', 'intents', 'contextsWithIntent'])\n",
    "                paper_cites_relationship = {\n",
    "                    \"type\": \"relationship\",\n",
    "                    \"relationshipType\": \"CITES\",\n",
    "                    \"startNodeId\": original_id,\n",
    "                    \"endNodeId\": ref_id,\n",
    "                    \"properties\": properties}\n",
    "                ref_relationmeta_json.append(paper_cites_relationship)\n",
    "\n",
    "    ref_papermeta_json = ss_papermeta_process(ref_paperdata_json)\n",
    "    return ref_papermeta_json + ref_relationmeta_json"
   ]
  },
  {
   "cell_type": "code",
   "execution_count": null,
   "metadata": {},
   "outputs": [],
   "source": [
    "item = ss_metadata[0]\n",
    "paper_id = item.get('paperId')  # semantic scholar paper id\n",
    "\n",
    "if paper_id is not None:\n",
    "    arxiv_id = item.get('externalIds',{}).get('ArXiv')  # arxiv id\n",
    "    if arxiv_id is not None:\n",
    "        arxiv_no = arxiv_id.replace('10.48550/arXiv.', '') \n",
    "        arxiv_id = re.sub(r'v\\d+$', '', arxiv_no)\n",
    "        version_match = re.search(r'v\\d+$', arxiv_no)\n",
    "        # generate arxiv related info\n",
    "        item['version'] = version_match.group(0) if version_match else \"\"\n",
    "        item['arxivUrl'] = f\"https://arxiv.org/abs/{arxiv_no}\"\n",
    "        item['isOpenAccess'] = True, \n",
    "        item['openAccessPdf'] = f\"https://arxiv.org/pdf/{arxiv_no}\"\n",
    "\n",
    "    doi = item.get('externalIds',{}).get('DOI')  # doi\n",
    "    if doi is None and arxiv_id is not None:\n",
    "        doi = f\"10.48550/arXiv.{arxiv_id}\"  # assign 10.48550/arXiv. for arxiv id https://info.arxiv.org/help/doi.html\n",
    "\n",
    "    # for unique id\n",
    "    if arxiv_id is not None:\n",
    "        id = f\"10.48550/arXiv.{arxiv_id}\"\n",
    "    elif doi is not None:\n",
    "        id = doi\n",
    "    else:\n",
    "        id = paper_id\n",
    "\n",
    "ss_refmeta_json = ss_refmeta_process(id, reference_metadata)\n",
    "len(ss_refmeta_json)"
   ]
  },
  {
   "cell_type": "code",
   "execution_count": null,
   "metadata": {},
   "outputs": [],
   "source": [
    "import_json_to_neo4j(processed_data=ss_refmeta_json, uri=neo4j_uri, username=neo4j_user, password=neo4j_password, database=database)"
   ]
  },
  {
   "cell_type": "code",
   "execution_count": null,
   "metadata": {},
   "outputs": [],
   "source": [
    "for item in ss_refmeta_json:\n",
    "    if item['type'] == 'relationship' and item['relationshipType'] == 'CITES':\n",
    "        print(item)"
   ]
  },
  {
   "cell_type": "code",
   "execution_count": null,
   "metadata": {},
   "outputs": [],
   "source": [
    "def ss_citedbymeta_process(original_id, citedby_metadata: List[Dict]):\n",
    "    citing_relationmeta_json = []  # store paper - CITES -> paer relationship\n",
    "    citing_paperdata_json = [] # for paper metadata, to be processed\n",
    "\n",
    "    for item in citedby_metadata:\n",
    "        citingPaper = item.get('citingPaper')\n",
    "        if  citingPaper is not None and citingPaper.get('paperId') is not None:\n",
    "            citing_arxiv_id = citingPaper.get('externalIds',{}).get('ArXiv')  # arxiv id\n",
    "            if citing_arxiv_id is not None:\n",
    "                citing_arxiv_id = re.sub(r'v\\d+$', '', citing_arxiv_id.replace('10.48550/arXiv.', '') )\n",
    "\n",
    "            citing_doi = item.get('externalIds',{}).get('DOI')  # doi\n",
    "            if citing_doi is None and citing_arxiv_id is not None:\n",
    "                citing_doi = f\"10.48550/arXiv.{citing_arxiv_id}\"  # assign 10.48550/arXiv. for arxiv id https://info.arxiv.org/help/doi.html\n",
    "\n",
    "            # for unique id\n",
    "            if citing_arxiv_id is not None:\n",
    "                citing_id = f\"10.48550/arXiv.{citing_arxiv_id}\"\n",
    "            elif citing_doi is not None:\n",
    "                citing_id = citing_doi\n",
    "            else:\n",
    "                citing_id = citingPaper.get('paperId')\n",
    "\n",
    "            if citing_id is not None: \n",
    "                # append paper meta\n",
    "                citing_paperdata_json.append(citingPaper)\n",
    "\n",
    "                # append relationship\n",
    "                properties = filter_dict_keys(item, ['isInfluential', 'contexts', 'intents', 'contextsWithIntent'])\n",
    "                paper_cites_relationship = {\n",
    "                    \"type\": \"relationship\",\n",
    "                    \"relationshipType\": \"CITES\",\n",
    "                    \"startNodeId\": citing_id,\n",
    "                    \"endNodeId\": original_id,\n",
    "                    \"properties\": properties}\n",
    "                citing_relationmeta_json.append(paper_cites_relationship)\n",
    "\n",
    "    citing_papermeta_json = ss_papermeta_process(citing_paperdata_json)\n",
    "    return citing_papermeta_json + citing_relationmeta_json"
   ]
  },
  {
   "cell_type": "code",
   "execution_count": null,
   "metadata": {},
   "outputs": [],
   "source": [
    "ss_citedby_json = ss_citedbymeta_process(id, citedby_metadata)"
   ]
  },
  {
   "cell_type": "code",
   "execution_count": null,
   "metadata": {},
   "outputs": [],
   "source": [
    "len(ss_citedby_json)"
   ]
  },
  {
   "cell_type": "code",
   "execution_count": null,
   "metadata": {},
   "outputs": [],
   "source": [
    "for item in ss_citedby_json:\n",
    "    if item['type'] == 'relationship' and item['relationshipType'] == 'CITES':\n",
    "        print(item)"
   ]
  },
  {
   "cell_type": "code",
   "execution_count": null,
   "metadata": {},
   "outputs": [],
   "source": [
    "import_json_to_neo4j(processed_data=ss_citedby_json, uri=neo4j_uri, username=neo4j_user, password=neo4j_password, database=database)"
   ]
  },
  {
   "cell_type": "markdown",
   "metadata": {},
   "source": []
  }
 ],
 "metadata": {
  "kernelspec": {
   "display_name": "ai4fun",
   "language": "python",
   "name": "python3"
  },
  "language_info": {
   "codemirror_mode": {
    "name": "ipython",
    "version": 3
   },
   "file_extension": ".py",
   "mimetype": "text/x-python",
   "name": "python",
   "nbconvert_exporter": "python",
   "pygments_lexer": "ipython3",
   "version": "3.10.16"
  }
 },
 "nbformat": 4,
 "nbformat_minor": 2
}
