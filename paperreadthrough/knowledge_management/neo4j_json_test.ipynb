{
 "cells": [
  {
   "cell_type": "markdown",
   "metadata": {},
   "source": [
    "# Neo4j Json Import Test"
   ]
  },
  {
   "cell_type": "markdown",
   "metadata": {},
   "source": [
    "## Basic Data"
   ]
  },
  {
   "cell_type": "code",
   "execution_count": 1,
   "metadata": {},
   "outputs": [],
   "source": [
    "title = \"Training Large Language Models to Reason in a Continuous Latent Space\""
   ]
  },
  {
   "cell_type": "code",
   "execution_count": 2,
   "metadata": {},
   "outputs": [],
   "source": [
    "import sys\n",
    "import os\n",
    "\n",
    "# 获取当前脚本所在目录的父目录 (即 my_project)\n",
    "parent_dir = os.path.dirname(os.getcwd())\n",
    "\n",
    "# 将父目录添加到 sys.path\n",
    "sys.path.append(parent_dir)"
   ]
  },
  {
   "cell_type": "code",
   "execution_count": 3,
   "metadata": {},
   "outputs": [],
   "source": [
    "from apis.arxiv_tool import ArxivKit\n",
    "from apis.semanticscholar_tool import SemanticScholarKit"
   ]
  },
  {
   "cell_type": "markdown",
   "metadata": {},
   "source": [
    "Arxiv Metadata"
   ]
  },
  {
   "cell_type": "code",
   "execution_count": 4,
   "metadata": {},
   "outputs": [
    {
     "name": "stderr",
     "output_type": "stream",
     "text": [
      "2025-02-19 09:23:26,386 - INFO - Requesting page (first: True, try: 0): https://export.arxiv.org/api/query?search_query=Training+Large+Language+Models+to+Reason+in+a+Continuous+Latent+Space&id_list=&sortBy=relevance&sortOrder=descending&start=0&max_results=100\n",
      "2025-02-19 09:23:31,574 - INFO - Got first page: 100 of 2660947 total results\n"
     ]
    }
   ],
   "source": [
    "arxiv = ArxivKit()\n",
    "arxiv_metadata = arxiv.retrieve_metadata_by_paper(query_term=title, max_cnt=3)"
   ]
  },
  {
   "cell_type": "markdown",
   "metadata": {},
   "source": [
    "SemanticScholar Metadata"
   ]
  },
  {
   "cell_type": "code",
   "execution_count": 5,
   "metadata": {},
   "outputs": [
    {
     "name": "stderr",
     "output_type": "stream",
     "text": [
      "2025-02-19 09:23:33,113 - INFO - HTTP Request: GET https://api.semanticscholar.org/graph/v1/paper/search?query=Training+Large+Language+Models+to+Reason+in+a+Continuous+Latent+Space&fields=abstract%2Cauthors%2CcitationCount%2CcitationStyles%2CcorpusId%2CexternalIds%2CfieldsOfStudy%2CinfluentialCitationCount%2CisOpenAccess%2Cjournal%2CopenAccessPdf%2CpaperId%2CpublicationDate%2CpublicationTypes%2CpublicationVenue%2CreferenceCount%2Cs2FieldsOfStudy%2Ctitle%2Curl%2Cvenue%2Cyear&offset=0&limit=3 \"HTTP/1.1 200 OK\"\n"
     ]
    }
   ],
   "source": [
    "ss = SemanticScholarKit()\n",
    "ss_metadata = ss.search_paper_by_keywords(query=title, limit=3)"
   ]
  },
  {
   "cell_type": "code",
   "execution_count": 6,
   "metadata": {},
   "outputs": [
    {
     "name": "stdout",
     "output_type": "stream",
     "text": [
      "673fbdd957cada770d10dffca5e45b53da43a3c6\n"
     ]
    }
   ],
   "source": [
    "# paper_ss_id = ss_metadata[0][0].get('paperId')\n",
    "paper_ss_id = ss_metadata[0].get('paperId')\n",
    "print(paper_ss_id)"
   ]
  },
  {
   "cell_type": "markdown",
   "metadata": {},
   "source": [
    "Reference and Citedby data"
   ]
  },
  {
   "cell_type": "code",
   "execution_count": 7,
   "metadata": {},
   "outputs": [
    {
     "name": "stderr",
     "output_type": "stream",
     "text": [
      "2025-02-19 09:23:34,692 - INFO - HTTP Request: GET https://api.semanticscholar.org/graph/v1/paper/673fbdd957cada770d10dffca5e45b53da43a3c6/references?fields=contexts%2Cintents%2CcontextsWithIntent%2CisInfluential%2Cabstract%2Cauthors%2CcitationCount%2CcitationStyles%2CcorpusId%2CexternalIds%2CfieldsOfStudy%2CinfluentialCitationCount%2CisOpenAccess%2Cjournal%2CopenAccessPdf%2CpaperId%2CpublicationDate%2CpublicationTypes%2CpublicationVenue%2CreferenceCount%2Cs2FieldsOfStudy%2Ctitle%2Curl%2Cvenue%2Cyear&offset=0&limit=100 \"HTTP/1.1 200 OK\"\n"
     ]
    },
    {
     "data": {
      "text/plain": [
       "49"
      ]
     },
     "execution_count": 7,
     "metadata": {},
     "output_type": "execute_result"
    }
   ],
   "source": [
    "reference_metadata = ss.get_semanticscholar_references(paper_id=paper_ss_id, limit=100)\n",
    "len(reference_metadata)"
   ]
  },
  {
   "cell_type": "code",
   "execution_count": 8,
   "metadata": {},
   "outputs": [
    {
     "name": "stderr",
     "output_type": "stream",
     "text": [
      "2025-02-19 09:23:36,722 - INFO - HTTP Request: GET https://api.semanticscholar.org/graph/v1/paper/673fbdd957cada770d10dffca5e45b53da43a3c6/citations?fields=contexts%2Cintents%2CcontextsWithIntent%2CisInfluential%2Cabstract%2Cauthors%2CcitationCount%2CcitationStyles%2CcorpusId%2CexternalIds%2CfieldsOfStudy%2CinfluentialCitationCount%2CisOpenAccess%2Cjournal%2CopenAccessPdf%2CpaperId%2CpublicationDate%2CpublicationTypes%2CpublicationVenue%2CreferenceCount%2Cs2FieldsOfStudy%2Ctitle%2Curl%2Cvenue%2Cyear&offset=0&limit=100 \"HTTP/1.1 200 OK\"\n"
     ]
    },
    {
     "data": {
      "text/plain": [
       "11"
      ]
     },
     "execution_count": 8,
     "metadata": {},
     "output_type": "execute_result"
    }
   ],
   "source": [
    "citedby_metadata = ss.get_semanticscholar_citedby(paper_id=paper_ss_id, limit=100)\n",
    "len(citedby_metadata)"
   ]
  },
  {
   "cell_type": "markdown",
   "metadata": {},
   "source": [
    "## Meatadata Process"
   ]
  },
  {
   "cell_type": "markdown",
   "metadata": {},
   "source": [
    "for semantic scholar paper metadata"
   ]
  },
  {
   "cell_type": "code",
   "execution_count": 9,
   "metadata": {},
   "outputs": [],
   "source": [
    "def move_key_to_first(input_dict, key_to_move):\n",
    "    \"\"\"将字典的某个键移动到第一位。\"\"\"\n",
    "    if key_to_move not in input_dict:\n",
    "        return input_dict  # 如果键不存在，则直接返回原字典\n",
    "\n",
    "    value = input_dict[key_to_move]\n",
    "    new_dict = {key_to_move: value} # 创建新字典，首先插入要移动的键\n",
    "    for k, v in input_dict.items():\n",
    "        if k != key_to_move:\n",
    "            new_dict[k] = v\n",
    "    return new_dict"
   ]
  },
  {
   "cell_type": "code",
   "execution_count": 10,
   "metadata": {},
   "outputs": [],
   "source": [
    "def filter_and_reorder_dict_comprehension(input_dict, keys_to_keep):\n",
    "    \"\"\"使用字典推导式过滤并按指定键顺序调整字典。\"\"\"\n",
    "    return {key: input_dict[key] for key in keys_to_keep if key in input_dict}"
   ]
  },
  {
   "cell_type": "code",
   "execution_count": 11,
   "metadata": {},
   "outputs": [],
   "source": [
    "import copy \n",
    "\n",
    "def delete_keys_del(input_dict, keys_to_delete):\n",
    "    \"\"\"使用 del 关键字删除字典中特定的键。\"\"\"\n",
    "    opt_dct = copy.deepcopy(input_dict)\n",
    "    for key in keys_to_delete:\n",
    "        if key in opt_dct:  # 检查键是否存在，避免 KeyError\n",
    "            del opt_dct[key]\n",
    "    return opt_dct # 为了方便链式调用，返回修改后的字典"
   ]
  },
  {
   "cell_type": "code",
   "execution_count": 12,
   "metadata": {},
   "outputs": [],
   "source": [
    "def remove_kth_element(original_list, k):\n",
    "    \"\"\"删除list中第k个元素 (不改变原list的值，仅返回新list)\"\"\"\n",
    "    if k <= 0 or k > len(original_list):\n",
    "        return list(original_list)  # 返回原list的副本，不改变原list\n",
    "    else:\n",
    "        new_list = list(original_list) # 创建原list的副本\n",
    "        new_list.pop(k - 1) # 删除索引为 k-1 的元素 (因为list索引是 0-based)\n",
    "        return new_list"
   ]
  },
  {
   "cell_type": "code",
   "execution_count": 27,
   "metadata": {},
   "outputs": [],
   "source": [
    "import json\n",
    "\n",
    "def convert_dict_values_to_json(dict_data):\n",
    "    \"\"\"检查字典的值，如果值是字典类型，则将其转换为 JSON 字符串。\n",
    "    Args:\n",
    "        dict_data (dict): 输入字典。\n",
    "    Returns:\n",
    "        dict: 值被转换后的字典。\n",
    "    \"\"\"\n",
    "    modified_dict = {}\n",
    "    for key, value in dict_data.items():\n",
    "        if isinstance(value, dict):\n",
    "            modified_dict[key] = json.dumps(value, ensure_ascii=False)\n",
    "        else:\n",
    "            modified_dict[key] = value\n",
    "    return modified_dict"
   ]
  },
  {
   "cell_type": "markdown",
   "metadata": {},
   "source": [
    "For better alignment of data types:\n",
    "- separate by node and relationship types\n",
    "- first mapping data types between neo4j, then import data\n",
    "- import nodes and relationships separately"
   ]
  },
  {
   "cell_type": "code",
   "execution_count": 33,
   "metadata": {},
   "outputs": [],
   "source": [
    "ss_papermeta_json = []\n",
    "# for node json\n",
    "ss_papermeta_paper_json, ss_papermeta_author_json, ss_papermeta_journal_json, ss_papermeta_venue_json = [], [], [], []\n",
    "# for relationship json\n",
    "ss_papermeta_author_paper_json, ss_papermeta_paper_journal_json, ss_papermeta_paper_venue_json = [], [], []\n",
    "\n",
    "for item in ss_metadata:\n",
    "    paper_id = item.get('paperId')\n",
    "    if paper_id is not None:\n",
    "        # process paper node\n",
    "        arxiv_id = item.get('externalIds',{}).get('ArXiv')\n",
    "        if arxiv_id is not None:\n",
    "            arxiv_id = arxiv_id.replace('10.48550/arXiv.', '') \n",
    "        item['arxivId'] = arxiv_id\n",
    "\n",
    "        doi = item.get('externalIds',{}).get('DOI')\n",
    "        if doi is None:\n",
    "            if arxiv_id is not None:\n",
    "                doi = f\"10.48550/arXiv.{arxiv_id}\"  # assign 10.48550/arXiv. for arxiv id https://info.arxiv.org/help/doi.html\n",
    "            else:\n",
    "                doi = paper_id\n",
    "        item['DOI'] = doi\n",
    "\n",
    "        authors = item.get('authors', [])[:10] if item.get('authors', []) is not None else []\n",
    "        journal = item.get('journal', {}) if item.get('journal', {}) is not None else {}\n",
    "        venue = item.get('publicationVenue', {}) if item.get('publicationVenue', {}) is not None else {}\n",
    "      \n",
    "        paper_node = {\n",
    "            \"type\": \"node\",\n",
    "            \"id\": doi,\n",
    "            \"labels\": [\"Paper\"],\n",
    "            \"properties\": item\n",
    "            }\n",
    "        ss_papermeta_paper_json.append(paper_node)\n",
    "        ss_papermeta_json.append(paper_node)\n",
    "\n",
    "        for idx, author in enumerate(authors[:10]):\n",
    "            # process author node\n",
    "            author_id = author.get('authorId')\n",
    "            if author_id is not None:\n",
    "                author_node = {\n",
    "                    \"type\": \"node\",\n",
    "                    \"id\": author.get('authorId'),\n",
    "                    \"labels\": [\"Author\"],\n",
    "                    \"properties\": author}\n",
    "                ss_papermeta_author_json.append(author_node)\n",
    "                ss_papermeta_json.append(author_node)\n",
    "            \n",
    "                # process author -> WRITES -> paper\n",
    "                author_order = idx + 1\n",
    "                coauthors = remove_kth_element(authors, idx)\n",
    "                author_paper_relationship = {\n",
    "                    \"type\": \"relationship\",\n",
    "                    \"relationshipType\": \"WRITES\",\n",
    "                    \"startNodeId\": author_id,\n",
    "                    \"endNodeId\": doi,\n",
    "                    \"properties\": {'authorOrder': author_order, 'coauthors': coauthors}\n",
    "                    }\n",
    "                ss_papermeta_author_paper_json.append(author_paper_relationship)\n",
    "                ss_papermeta_json.append(author_paper_relationship)\n",
    "\n",
    "        journal_name = journal.get('name')\n",
    "        if journal_name is not None:\n",
    "            # process journal node\n",
    "            journal_node = {\n",
    "                  \"type\": \"node\",\n",
    "                  \"id\": journal_name,\n",
    "                  \"labels\": [\"Journal\"],\n",
    "                  \"properties\": {\"name\": journal_name}}\n",
    "            ss_papermeta_journal_json.append(journal_node)\n",
    "            ss_papermeta_json.append(journal_node)\n",
    "            \n",
    "            if 'arxiv' not in journal_name.lower():  # journal可能会有大量热点，预先进行排除\n",
    "                # process paper -> PRINTS_ON -> journal\n",
    "                paper_journal_relationship = {\n",
    "                  \"type\": \"relationship\",\n",
    "                  \"relationshipType\": \"PRINTS_ON\",\n",
    "                  \"startNodeId\": doi,\n",
    "                  \"endNodeId\": journal_name,\n",
    "                  \"properties\": journal}\n",
    "                ss_papermeta_paper_journal_json.append(paper_journal_relationship)\n",
    "                ss_papermeta_json.append(paper_journal_relationship)\n",
    "\n",
    "        venue_id = venue.get('id')\n",
    "        if venue_id is not None:\n",
    "            # process venue node\n",
    "            venue_node = {\n",
    "                  \"type\": \"node\",\n",
    "                  \"id\": venue_id,\n",
    "                  \"labels\": [\"Venue\"],\n",
    "                  \"properties\": venue\n",
    "                  }\n",
    "            ss_papermeta_venue_json.append(venue_node)\n",
    "            ss_papermeta_json.append(venue_node)\n",
    "            \n",
    "            # process paper -> RELEASES_IN -> venue\n",
    "            if 'arxiv' not in venue.get('name').lower():  # venue可能会有大量热点，预先进行排除\n",
    "                paper_venue_relationship = {\n",
    "                  \"type\": \"relationship\",\n",
    "                  \"relationshipType\": \"RELEASES_IN\",\n",
    "                  \"startNodeId\": doi,\n",
    "                  \"endNodeId\": venue.get('id'),\n",
    "                  \"properties\": {}}\n",
    "                ss_papermeta_paper_venue_json.append(paper_venue_relationship)\n",
    "                ss_papermeta_json.append(paper_venue_relationship)"
   ]
  },
  {
   "cell_type": "code",
   "execution_count": 42,
   "metadata": {},
   "outputs": [
    {
     "data": {
      "text/plain": [
       "60"
      ]
     },
     "execution_count": 42,
     "metadata": {},
     "output_type": "execute_result"
    }
   ],
   "source": [
    "len(ss_papermeta_json)"
   ]
  },
  {
   "cell_type": "markdown",
   "metadata": {},
   "source": [
    "## For Paper Entity"
   ]
  },
  {
   "cell_type": "code",
   "execution_count": 30,
   "metadata": {},
   "outputs": [],
   "source": [
    "import json\n",
    "from neo4j import GraphDatabase  # pip install neo4j https://github.com/neo4j/neo4j-python-driver\n",
    "# import jsonschema  # pip install jsonschema https://github.com/python-jsonschema/jsonschema\n",
    "# from jsonschema import Draft7Validator\n",
    "\n",
    "neo4j_uri = \"bolt://localhost:7687\"  # 替换为你的 Neo4j Bolt URI\n",
    "neo4j_user = \"neo4j\"           # 替换为你的 Neo4j 用户名\n",
    "neo4j_password = \"25216590\"      # 替换为你的 Neo4j 密码\n",
    "database = \"paper-graph-v0-1\""
   ]
  },
  {
   "cell_type": "code",
   "execution_count": null,
   "metadata": {},
   "outputs": [],
   "source": [
    "import json\n",
    "from neo4j import GraphDatabase\n",
    "\n",
    "def is_neo4j_compatible(value):\n",
    "    \"\"\"检查值是否可被Neo4j存储为属性（基本类型或其数组）\"\"\"\n",
    "    if isinstance(value, (str, int, float, bool, type(None))):\n",
    "        return True\n",
    "    elif isinstance(value, list):\n",
    "        return all(is_neo4j_compatible(item) for item in value)\n",
    "    else:\n",
    "        return False\n",
    "\n",
    "def import_json_to_neo4j(processed_data, uri, username, password, database):\n",
    "    driver = GraphDatabase.driver(uri, auth=(username, password))\n",
    "\n",
    "    with driver.session(database=database) as session:\n",
    "        for item in processed_data:\n",
    "            if item['type'] == 'node':\n",
    "                labels = \":\".join(item['labels'])\n",
    "                parameters = {\"id\": item['id']}\n",
    "                set_clauses = []\n",
    "\n",
    "                if item.get('properties') and isinstance(item['properties'], dict):\n",
    "                    for key, value in item['properties'].items():\n",
    "                        if is_neo4j_compatible(value):\n",
    "                            parameters[key] = value\n",
    "                        else:\n",
    "                            # 序列化非兼容类型为JSON字符串\n",
    "                            parameters[key] = json.dumps(value, ensure_ascii=False)\n",
    "                        set_clauses.append(f\"n.{key} = ${key}\")\n",
    "\n",
    "                merge_query = f\"MERGE (n:{labels} {{id: $id}})\"\n",
    "                if set_clauses:\n",
    "                    set_query = \"SET \" + \", \".join(set_clauses)\n",
    "                    cypher_query = f\"\"\"\n",
    "                        {merge_query}\n",
    "                        ON CREATE {set_query}\n",
    "                        ON MATCH {set_query}\n",
    "                    \"\"\"\n",
    "                else:\n",
    "                    cypher_query = merge_query\n",
    "                cypher_query += \" RETURN n\"\n",
    "                session.run(cypher_query, parameters)\n",
    "\n",
    "            elif item['type'] == 'relationship':\n",
    "                rel_type = item['relationshipType']\n",
    "                parameters = {\"startId\": item['startNodeId'], \"endId\": item['endNodeId']}\n",
    "                set_clauses = []\n",
    "\n",
    "                if item.get('properties') and isinstance(item['properties'], dict):\n",
    "                    for key, value in item['properties'].items():\n",
    "                        if is_neo4j_compatible(value):\n",
    "                            parameters[key] = value\n",
    "                        else:\n",
    "                            parameters[key] = json.dumps(value, ensure_ascii=False)\n",
    "                        set_clauses.append(f\"r.{key} = ${key}\")\n",
    "\n",
    "                cypher_query = f\"\"\"\n",
    "                    MATCH (a {{id: $startId}}), (b {{id: $endId}})\n",
    "                    MERGE (a)-[r:{rel_type}]->(b)\n",
    "                \"\"\"\n",
    "                if set_clauses:\n",
    "                    set_query = \"SET \" + \", \".join(set_clauses)\n",
    "                    cypher_query += f\"\"\"\n",
    "                        ON CREATE {set_query}\n",
    "                        ON MATCH {set_query}\n",
    "                    \"\"\"\n",
    "                cypher_query += \" RETURN r\"\n",
    "                session.run(cypher_query, parameters)\n",
    "\n",
    "    driver.close()"
   ]
  },
  {
   "cell_type": "code",
   "execution_count": null,
   "metadata": {},
   "outputs": [
    {
     "name": "stderr",
     "output_type": "stream",
     "text": [
      "2025-02-19 11:29:50,853 - INFO - Received notification from DBMS server: {severity: INFORMATION} {code: Neo.ClientNotification.Statement.CartesianProduct} {category: PERFORMANCE} {title: This query builds a cartesian product between disconnected patterns.} {description: If a part of a query contains multiple disconnected patterns, this will build a cartesian product between all those parts. This may produce a large amount of data and slow down query processing. While occasionally intended, it may often be possible to reformulate the query that avoids the use of this cross product, perhaps by adding a relationship between the different parts or by using OPTIONAL MATCH (identifier is: (b))} {position: line: 2, column: 21, offset: 21} for query: '\\n                    MATCH (a {id: $startId}), (b {id: $endId})\\n                    MERGE (a)-[r:WRITES]->(b)\\n                \\n                        ON CREATE SET r.authorOrder = $authorOrder, r.coauthors = $coauthors\\n                        ON MATCH SET r.authorOrder = $authorOrder, r.coauthors = $coauthors\\n                     RETURN r'\n",
      "2025-02-19 11:29:50,882 - INFO - Received notification from DBMS server: {severity: INFORMATION} {code: Neo.ClientNotification.Statement.CartesianProduct} {category: PERFORMANCE} {title: This query builds a cartesian product between disconnected patterns.} {description: If a part of a query contains multiple disconnected patterns, this will build a cartesian product between all those parts. This may produce a large amount of data and slow down query processing. While occasionally intended, it may often be possible to reformulate the query that avoids the use of this cross product, perhaps by adding a relationship between the different parts or by using OPTIONAL MATCH (identifier is: (b))} {position: line: 2, column: 21, offset: 21} for query: '\\n                    MATCH (a {id: $startId}), (b {id: $endId})\\n                    MERGE (a)-[r:WRITES]->(b)\\n                \\n                        ON CREATE SET r.authorOrder = $authorOrder, r.coauthors = $coauthors\\n                        ON MATCH SET r.authorOrder = $authorOrder, r.coauthors = $coauthors\\n                     RETURN r'\n",
      "2025-02-19 11:29:50,891 - INFO - Received notification from DBMS server: {severity: INFORMATION} {code: Neo.ClientNotification.Statement.CartesianProduct} {category: PERFORMANCE} {title: This query builds a cartesian product between disconnected patterns.} {description: If a part of a query contains multiple disconnected patterns, this will build a cartesian product between all those parts. This may produce a large amount of data and slow down query processing. While occasionally intended, it may often be possible to reformulate the query that avoids the use of this cross product, perhaps by adding a relationship between the different parts or by using OPTIONAL MATCH (identifier is: (b))} {position: line: 2, column: 21, offset: 21} for query: '\\n                    MATCH (a {id: $startId}), (b {id: $endId})\\n                    MERGE (a)-[r:WRITES]->(b)\\n                \\n                        ON CREATE SET r.authorOrder = $authorOrder, r.coauthors = $coauthors\\n                        ON MATCH SET r.authorOrder = $authorOrder, r.coauthors = $coauthors\\n                     RETURN r'\n",
      "2025-02-19 11:29:50,902 - INFO - Received notification from DBMS server: {severity: INFORMATION} {code: Neo.ClientNotification.Statement.CartesianProduct} {category: PERFORMANCE} {title: This query builds a cartesian product between disconnected patterns.} {description: If a part of a query contains multiple disconnected patterns, this will build a cartesian product between all those parts. This may produce a large amount of data and slow down query processing. While occasionally intended, it may often be possible to reformulate the query that avoids the use of this cross product, perhaps by adding a relationship between the different parts or by using OPTIONAL MATCH (identifier is: (b))} {position: line: 2, column: 21, offset: 21} for query: '\\n                    MATCH (a {id: $startId}), (b {id: $endId})\\n                    MERGE (a)-[r:WRITES]->(b)\\n                \\n                        ON CREATE SET r.authorOrder = $authorOrder, r.coauthors = $coauthors\\n                        ON MATCH SET r.authorOrder = $authorOrder, r.coauthors = $coauthors\\n                     RETURN r'\n",
      "2025-02-19 11:29:50,912 - INFO - Received notification from DBMS server: {severity: INFORMATION} {code: Neo.ClientNotification.Statement.CartesianProduct} {category: PERFORMANCE} {title: This query builds a cartesian product between disconnected patterns.} {description: If a part of a query contains multiple disconnected patterns, this will build a cartesian product between all those parts. This may produce a large amount of data and slow down query processing. While occasionally intended, it may often be possible to reformulate the query that avoids the use of this cross product, perhaps by adding a relationship between the different parts or by using OPTIONAL MATCH (identifier is: (b))} {position: line: 2, column: 21, offset: 21} for query: '\\n                    MATCH (a {id: $startId}), (b {id: $endId})\\n                    MERGE (a)-[r:WRITES]->(b)\\n                \\n                        ON CREATE SET r.authorOrder = $authorOrder, r.coauthors = $coauthors\\n                        ON MATCH SET r.authorOrder = $authorOrder, r.coauthors = $coauthors\\n                     RETURN r'\n",
      "2025-02-19 11:29:50,923 - INFO - Received notification from DBMS server: {severity: INFORMATION} {code: Neo.ClientNotification.Statement.CartesianProduct} {category: PERFORMANCE} {title: This query builds a cartesian product between disconnected patterns.} {description: If a part of a query contains multiple disconnected patterns, this will build a cartesian product between all those parts. This may produce a large amount of data and slow down query processing. While occasionally intended, it may often be possible to reformulate the query that avoids the use of this cross product, perhaps by adding a relationship between the different parts or by using OPTIONAL MATCH (identifier is: (b))} {position: line: 2, column: 21, offset: 21} for query: '\\n                    MATCH (a {id: $startId}), (b {id: $endId})\\n                    MERGE (a)-[r:WRITES]->(b)\\n                \\n                        ON CREATE SET r.authorOrder = $authorOrder, r.coauthors = $coauthors\\n                        ON MATCH SET r.authorOrder = $authorOrder, r.coauthors = $coauthors\\n                     RETURN r'\n",
      "2025-02-19 11:29:50,931 - INFO - Received notification from DBMS server: {severity: INFORMATION} {code: Neo.ClientNotification.Statement.CartesianProduct} {category: PERFORMANCE} {title: This query builds a cartesian product between disconnected patterns.} {description: If a part of a query contains multiple disconnected patterns, this will build a cartesian product between all those parts. This may produce a large amount of data and slow down query processing. While occasionally intended, it may often be possible to reformulate the query that avoids the use of this cross product, perhaps by adding a relationship between the different parts or by using OPTIONAL MATCH (identifier is: (b))} {position: line: 2, column: 21, offset: 21} for query: '\\n                    MATCH (a {id: $startId}), (b {id: $endId})\\n                    MERGE (a)-[r:WRITES]->(b)\\n                \\n                        ON CREATE SET r.authorOrder = $authorOrder, r.coauthors = $coauthors\\n                        ON MATCH SET r.authorOrder = $authorOrder, r.coauthors = $coauthors\\n                     RETURN r'\n",
      "2025-02-19 11:29:51,056 - INFO - Received notification from DBMS server: {severity: INFORMATION} {code: Neo.ClientNotification.Statement.CartesianProduct} {category: PERFORMANCE} {title: This query builds a cartesian product between disconnected patterns.} {description: If a part of a query contains multiple disconnected patterns, this will build a cartesian product between all those parts. This may produce a large amount of data and slow down query processing. While occasionally intended, it may often be possible to reformulate the query that avoids the use of this cross product, perhaps by adding a relationship between the different parts or by using OPTIONAL MATCH (identifier is: (b))} {position: line: 2, column: 21, offset: 21} for query: '\\n                    MATCH (a {id: $startId}), (b {id: $endId})\\n                    MERGE (a)-[r:WRITES]->(b)\\n                \\n                        ON CREATE SET r.authorOrder = $authorOrder, r.coauthors = $coauthors\\n                        ON MATCH SET r.authorOrder = $authorOrder, r.coauthors = $coauthors\\n                     RETURN r'\n",
      "2025-02-19 11:29:51,064 - INFO - Received notification from DBMS server: {severity: INFORMATION} {code: Neo.ClientNotification.Statement.CartesianProduct} {category: PERFORMANCE} {title: This query builds a cartesian product between disconnected patterns.} {description: If a part of a query contains multiple disconnected patterns, this will build a cartesian product between all those parts. This may produce a large amount of data and slow down query processing. While occasionally intended, it may often be possible to reformulate the query that avoids the use of this cross product, perhaps by adding a relationship between the different parts or by using OPTIONAL MATCH (identifier is: (b))} {position: line: 2, column: 21, offset: 21} for query: '\\n                    MATCH (a {id: $startId}), (b {id: $endId})\\n                    MERGE (a)-[r:WRITES]->(b)\\n                \\n                        ON CREATE SET r.authorOrder = $authorOrder, r.coauthors = $coauthors\\n                        ON MATCH SET r.authorOrder = $authorOrder, r.coauthors = $coauthors\\n                     RETURN r'\n",
      "2025-02-19 11:29:51,073 - INFO - Received notification from DBMS server: {severity: INFORMATION} {code: Neo.ClientNotification.Statement.CartesianProduct} {category: PERFORMANCE} {title: This query builds a cartesian product between disconnected patterns.} {description: If a part of a query contains multiple disconnected patterns, this will build a cartesian product between all those parts. This may produce a large amount of data and slow down query processing. While occasionally intended, it may often be possible to reformulate the query that avoids the use of this cross product, perhaps by adding a relationship between the different parts or by using OPTIONAL MATCH (identifier is: (b))} {position: line: 2, column: 21, offset: 21} for query: '\\n                    MATCH (a {id: $startId}), (b {id: $endId})\\n                    MERGE (a)-[r:WRITES]->(b)\\n                \\n                        ON CREATE SET r.authorOrder = $authorOrder, r.coauthors = $coauthors\\n                        ON MATCH SET r.authorOrder = $authorOrder, r.coauthors = $coauthors\\n                     RETURN r'\n",
      "2025-02-19 11:29:51,097 - INFO - Received notification from DBMS server: {severity: INFORMATION} {code: Neo.ClientNotification.Statement.CartesianProduct} {category: PERFORMANCE} {title: This query builds a cartesian product between disconnected patterns.} {description: If a part of a query contains multiple disconnected patterns, this will build a cartesian product between all those parts. This may produce a large amount of data and slow down query processing. While occasionally intended, it may often be possible to reformulate the query that avoids the use of this cross product, perhaps by adding a relationship between the different parts or by using OPTIONAL MATCH (identifier is: (b))} {position: line: 2, column: 21, offset: 21} for query: '\\n                    MATCH (a {id: $startId}), (b {id: $endId})\\n                    MERGE (a)-[r:WRITES]->(b)\\n                \\n                        ON CREATE SET r.authorOrder = $authorOrder, r.coauthors = $coauthors\\n                        ON MATCH SET r.authorOrder = $authorOrder, r.coauthors = $coauthors\\n                     RETURN r'\n",
      "2025-02-19 11:29:51,106 - INFO - Received notification from DBMS server: {severity: INFORMATION} {code: Neo.ClientNotification.Statement.CartesianProduct} {category: PERFORMANCE} {title: This query builds a cartesian product between disconnected patterns.} {description: If a part of a query contains multiple disconnected patterns, this will build a cartesian product between all those parts. This may produce a large amount of data and slow down query processing. While occasionally intended, it may often be possible to reformulate the query that avoids the use of this cross product, perhaps by adding a relationship between the different parts or by using OPTIONAL MATCH (identifier is: (b))} {position: line: 2, column: 21, offset: 21} for query: '\\n                    MATCH (a {id: $startId}), (b {id: $endId})\\n                    MERGE (a)-[r:WRITES]->(b)\\n                \\n                        ON CREATE SET r.authorOrder = $authorOrder, r.coauthors = $coauthors\\n                        ON MATCH SET r.authorOrder = $authorOrder, r.coauthors = $coauthors\\n                     RETURN r'\n",
      "2025-02-19 11:29:51,115 - INFO - Received notification from DBMS server: {severity: INFORMATION} {code: Neo.ClientNotification.Statement.CartesianProduct} {category: PERFORMANCE} {title: This query builds a cartesian product between disconnected patterns.} {description: If a part of a query contains multiple disconnected patterns, this will build a cartesian product between all those parts. This may produce a large amount of data and slow down query processing. While occasionally intended, it may often be possible to reformulate the query that avoids the use of this cross product, perhaps by adding a relationship between the different parts or by using OPTIONAL MATCH (identifier is: (b))} {position: line: 2, column: 21, offset: 21} for query: '\\n                    MATCH (a {id: $startId}), (b {id: $endId})\\n                    MERGE (a)-[r:WRITES]->(b)\\n                \\n                        ON CREATE SET r.authorOrder = $authorOrder, r.coauthors = $coauthors\\n                        ON MATCH SET r.authorOrder = $authorOrder, r.coauthors = $coauthors\\n                     RETURN r'\n",
      "2025-02-19 11:29:51,123 - INFO - Received notification from DBMS server: {severity: INFORMATION} {code: Neo.ClientNotification.Statement.CartesianProduct} {category: PERFORMANCE} {title: This query builds a cartesian product between disconnected patterns.} {description: If a part of a query contains multiple disconnected patterns, this will build a cartesian product between all those parts. This may produce a large amount of data and slow down query processing. While occasionally intended, it may often be possible to reformulate the query that avoids the use of this cross product, perhaps by adding a relationship between the different parts or by using OPTIONAL MATCH (identifier is: (b))} {position: line: 2, column: 21, offset: 21} for query: '\\n                    MATCH (a {id: $startId}), (b {id: $endId})\\n                    MERGE (a)-[r:WRITES]->(b)\\n                \\n                        ON CREATE SET r.authorOrder = $authorOrder, r.coauthors = $coauthors\\n                        ON MATCH SET r.authorOrder = $authorOrder, r.coauthors = $coauthors\\n                     RETURN r'\n",
      "2025-02-19 11:29:51,131 - INFO - Received notification from DBMS server: {severity: INFORMATION} {code: Neo.ClientNotification.Statement.CartesianProduct} {category: PERFORMANCE} {title: This query builds a cartesian product between disconnected patterns.} {description: If a part of a query contains multiple disconnected patterns, this will build a cartesian product between all those parts. This may produce a large amount of data and slow down query processing. While occasionally intended, it may often be possible to reformulate the query that avoids the use of this cross product, perhaps by adding a relationship between the different parts or by using OPTIONAL MATCH (identifier is: (b))} {position: line: 2, column: 21, offset: 21} for query: '\\n                    MATCH (a {id: $startId}), (b {id: $endId})\\n                    MERGE (a)-[r:WRITES]->(b)\\n                \\n                        ON CREATE SET r.authorOrder = $authorOrder, r.coauthors = $coauthors\\n                        ON MATCH SET r.authorOrder = $authorOrder, r.coauthors = $coauthors\\n                     RETURN r'\n",
      "2025-02-19 11:29:51,140 - INFO - Received notification from DBMS server: {severity: INFORMATION} {code: Neo.ClientNotification.Statement.CartesianProduct} {category: PERFORMANCE} {title: This query builds a cartesian product between disconnected patterns.} {description: If a part of a query contains multiple disconnected patterns, this will build a cartesian product between all those parts. This may produce a large amount of data and slow down query processing. While occasionally intended, it may often be possible to reformulate the query that avoids the use of this cross product, perhaps by adding a relationship between the different parts or by using OPTIONAL MATCH (identifier is: (b))} {position: line: 2, column: 21, offset: 21} for query: '\\n                    MATCH (a {id: $startId}), (b {id: $endId})\\n                    MERGE (a)-[r:WRITES]->(b)\\n                \\n                        ON CREATE SET r.authorOrder = $authorOrder, r.coauthors = $coauthors\\n                        ON MATCH SET r.authorOrder = $authorOrder, r.coauthors = $coauthors\\n                     RETURN r'\n",
      "2025-02-19 11:29:51,150 - INFO - Received notification from DBMS server: {severity: INFORMATION} {code: Neo.ClientNotification.Statement.CartesianProduct} {category: PERFORMANCE} {title: This query builds a cartesian product between disconnected patterns.} {description: If a part of a query contains multiple disconnected patterns, this will build a cartesian product between all those parts. This may produce a large amount of data and slow down query processing. While occasionally intended, it may often be possible to reformulate the query that avoids the use of this cross product, perhaps by adding a relationship between the different parts or by using OPTIONAL MATCH (identifier is: (b))} {position: line: 2, column: 21, offset: 21} for query: '\\n                    MATCH (a {id: $startId}), (b {id: $endId})\\n                    MERGE (a)-[r:WRITES]->(b)\\n                \\n                        ON CREATE SET r.authorOrder = $authorOrder, r.coauthors = $coauthors\\n                        ON MATCH SET r.authorOrder = $authorOrder, r.coauthors = $coauthors\\n                     RETURN r'\n",
      "2025-02-19 11:29:51,221 - INFO - Received notification from DBMS server: {severity: INFORMATION} {code: Neo.ClientNotification.Statement.CartesianProduct} {category: PERFORMANCE} {title: This query builds a cartesian product between disconnected patterns.} {description: If a part of a query contains multiple disconnected patterns, this will build a cartesian product between all those parts. This may produce a large amount of data and slow down query processing. While occasionally intended, it may often be possible to reformulate the query that avoids the use of this cross product, perhaps by adding a relationship between the different parts or by using OPTIONAL MATCH (identifier is: (b))} {position: line: 2, column: 21, offset: 21} for query: '\\n                    MATCH (a {id: $startId}), (b {id: $endId})\\n                    MERGE (a)-[r:WRITES]->(b)\\n                \\n                        ON CREATE SET r.authorOrder = $authorOrder, r.coauthors = $coauthors\\n                        ON MATCH SET r.authorOrder = $authorOrder, r.coauthors = $coauthors\\n                     RETURN r'\n",
      "2025-02-19 11:29:51,228 - INFO - Received notification from DBMS server: {severity: INFORMATION} {code: Neo.ClientNotification.Statement.CartesianProduct} {category: PERFORMANCE} {title: This query builds a cartesian product between disconnected patterns.} {description: If a part of a query contains multiple disconnected patterns, this will build a cartesian product between all those parts. This may produce a large amount of data and slow down query processing. While occasionally intended, it may often be possible to reformulate the query that avoids the use of this cross product, perhaps by adding a relationship between the different parts or by using OPTIONAL MATCH (identifier is: (b))} {position: line: 2, column: 21, offset: 21} for query: '\\n                    MATCH (a {id: $startId}), (b {id: $endId})\\n                    MERGE (a)-[r:WRITES]->(b)\\n                \\n                        ON CREATE SET r.authorOrder = $authorOrder, r.coauthors = $coauthors\\n                        ON MATCH SET r.authorOrder = $authorOrder, r.coauthors = $coauthors\\n                     RETURN r'\n",
      "2025-02-19 11:29:51,237 - INFO - Received notification from DBMS server: {severity: INFORMATION} {code: Neo.ClientNotification.Statement.CartesianProduct} {category: PERFORMANCE} {title: This query builds a cartesian product between disconnected patterns.} {description: If a part of a query contains multiple disconnected patterns, this will build a cartesian product between all those parts. This may produce a large amount of data and slow down query processing. While occasionally intended, it may often be possible to reformulate the query that avoids the use of this cross product, perhaps by adding a relationship between the different parts or by using OPTIONAL MATCH (identifier is: (b))} {position: line: 2, column: 21, offset: 21} for query: '\\n                    MATCH (a {id: $startId}), (b {id: $endId})\\n                    MERGE (a)-[r:WRITES]->(b)\\n                \\n                        ON CREATE SET r.authorOrder = $authorOrder, r.coauthors = $coauthors\\n                        ON MATCH SET r.authorOrder = $authorOrder, r.coauthors = $coauthors\\n                     RETURN r'\n",
      "2025-02-19 11:29:51,255 - INFO - Received notification from DBMS server: {severity: INFORMATION} {code: Neo.ClientNotification.Statement.CartesianProduct} {category: PERFORMANCE} {title: This query builds a cartesian product between disconnected patterns.} {description: If a part of a query contains multiple disconnected patterns, this will build a cartesian product between all those parts. This may produce a large amount of data and slow down query processing. While occasionally intended, it may often be possible to reformulate the query that avoids the use of this cross product, perhaps by adding a relationship between the different parts or by using OPTIONAL MATCH (identifier is: (b))} {position: line: 2, column: 21, offset: 21} for query: '\\n                    MATCH (a {id: $startId}), (b {id: $endId})\\n                    MERGE (a)-[r:WRITES]->(b)\\n                \\n                        ON CREATE SET r.authorOrder = $authorOrder, r.coauthors = $coauthors\\n                        ON MATCH SET r.authorOrder = $authorOrder, r.coauthors = $coauthors\\n                     RETURN r'\n",
      "2025-02-19 11:29:51,264 - INFO - Received notification from DBMS server: {severity: INFORMATION} {code: Neo.ClientNotification.Statement.CartesianProduct} {category: PERFORMANCE} {title: This query builds a cartesian product between disconnected patterns.} {description: If a part of a query contains multiple disconnected patterns, this will build a cartesian product between all those parts. This may produce a large amount of data and slow down query processing. While occasionally intended, it may often be possible to reformulate the query that avoids the use of this cross product, perhaps by adding a relationship between the different parts or by using OPTIONAL MATCH (identifier is: (b))} {position: line: 2, column: 21, offset: 21} for query: '\\n                    MATCH (a {id: $startId}), (b {id: $endId})\\n                    MERGE (a)-[r:WRITES]->(b)\\n                \\n                        ON CREATE SET r.authorOrder = $authorOrder, r.coauthors = $coauthors\\n                        ON MATCH SET r.authorOrder = $authorOrder, r.coauthors = $coauthors\\n                     RETURN r'\n",
      "2025-02-19 11:29:51,274 - INFO - Received notification from DBMS server: {severity: INFORMATION} {code: Neo.ClientNotification.Statement.CartesianProduct} {category: PERFORMANCE} {title: This query builds a cartesian product between disconnected patterns.} {description: If a part of a query contains multiple disconnected patterns, this will build a cartesian product between all those parts. This may produce a large amount of data and slow down query processing. While occasionally intended, it may often be possible to reformulate the query that avoids the use of this cross product, perhaps by adding a relationship between the different parts or by using OPTIONAL MATCH (identifier is: (b))} {position: line: 2, column: 21, offset: 21} for query: '\\n                    MATCH (a {id: $startId}), (b {id: $endId})\\n                    MERGE (a)-[r:WRITES]->(b)\\n                \\n                        ON CREATE SET r.authorOrder = $authorOrder, r.coauthors = $coauthors\\n                        ON MATCH SET r.authorOrder = $authorOrder, r.coauthors = $coauthors\\n                     RETURN r'\n",
      "2025-02-19 11:29:51,283 - INFO - Received notification from DBMS server: {severity: INFORMATION} {code: Neo.ClientNotification.Statement.CartesianProduct} {category: PERFORMANCE} {title: This query builds a cartesian product between disconnected patterns.} {description: If a part of a query contains multiple disconnected patterns, this will build a cartesian product between all those parts. This may produce a large amount of data and slow down query processing. While occasionally intended, it may often be possible to reformulate the query that avoids the use of this cross product, perhaps by adding a relationship between the different parts or by using OPTIONAL MATCH (identifier is: (b))} {position: line: 2, column: 21, offset: 21} for query: '\\n                    MATCH (a {id: $startId}), (b {id: $endId})\\n                    MERGE (a)-[r:WRITES]->(b)\\n                \\n                        ON CREATE SET r.authorOrder = $authorOrder, r.coauthors = $coauthors\\n                        ON MATCH SET r.authorOrder = $authorOrder, r.coauthors = $coauthors\\n                     RETURN r'\n",
      "2025-02-19 11:29:51,292 - INFO - Received notification from DBMS server: {severity: INFORMATION} {code: Neo.ClientNotification.Statement.CartesianProduct} {category: PERFORMANCE} {title: This query builds a cartesian product between disconnected patterns.} {description: If a part of a query contains multiple disconnected patterns, this will build a cartesian product between all those parts. This may produce a large amount of data and slow down query processing. While occasionally intended, it may often be possible to reformulate the query that avoids the use of this cross product, perhaps by adding a relationship between the different parts or by using OPTIONAL MATCH (identifier is: (b))} {position: line: 2, column: 21, offset: 21} for query: '\\n                    MATCH (a {id: $startId}), (b {id: $endId})\\n                    MERGE (a)-[r:WRITES]->(b)\\n                \\n                        ON CREATE SET r.authorOrder = $authorOrder, r.coauthors = $coauthors\\n                        ON MATCH SET r.authorOrder = $authorOrder, r.coauthors = $coauthors\\n                     RETURN r'\n",
      "2025-02-19 11:29:51,315 - INFO - Received notification from DBMS server: {severity: INFORMATION} {code: Neo.ClientNotification.Statement.CartesianProduct} {category: PERFORMANCE} {title: This query builds a cartesian product between disconnected patterns.} {description: If a part of a query contains multiple disconnected patterns, this will build a cartesian product between all those parts. This may produce a large amount of data and slow down query processing. While occasionally intended, it may often be possible to reformulate the query that avoids the use of this cross product, perhaps by adding a relationship between the different parts or by using OPTIONAL MATCH (identifier is: (b))} {position: line: 2, column: 21, offset: 21} for query: '\\n                    MATCH (a {id: $startId}), (b {id: $endId})\\n                    MERGE (a)-[r:PRINTS_ON]->(b)\\n                \\n                        ON CREATE SET r.name = $name, r.pages = $pages, r.volume = $volume\\n                        ON MATCH SET r.name = $name, r.pages = $pages, r.volume = $volume\\n                     RETURN r'\n",
      "2025-02-19 11:29:51,405 - INFO - Received notification from DBMS server: {severity: INFORMATION} {code: Neo.ClientNotification.Statement.CartesianProduct} {category: PERFORMANCE} {title: This query builds a cartesian product between disconnected patterns.} {description: If a part of a query contains multiple disconnected patterns, this will build a cartesian product between all those parts. This may produce a large amount of data and slow down query processing. While occasionally intended, it may often be possible to reformulate the query that avoids the use of this cross product, perhaps by adding a relationship between the different parts or by using OPTIONAL MATCH (identifier is: (b))} {position: line: 2, column: 21, offset: 21} for query: '\\n                    MATCH (a {id: $startId}), (b {id: $endId})\\n                    MERGE (a)-[r:RELEASES_IN]->(b)\\n                 RETURN r'\n"
     ]
    }
   ],
   "source": [
    "import_json_to_neo4j(processed_data=ss_papermeta_json, uri=neo4j_uri, username=neo4j_user, password=neo4j_password, database=database)"
   ]
  },
  {
   "cell_type": "markdown",
   "metadata": {},
   "source": [
    "## Another Approach"
   ]
  },
  {
   "cell_type": "markdown",
   "metadata": {},
   "source": [
    "First mapping json schema to neo4j data type, then insert"
   ]
  },
  {
   "cell_type": "code",
   "execution_count": null,
   "metadata": {},
   "outputs": [],
   "source": [
    "def load_json(raw_data):\n",
    "    \"\"\"validate and load json data\"\"\"\n",
    "    if isinstance(raw_data, str):\n",
    "        try:\n",
    "            json_data = json.loads(raw_data)\n",
    "            if isinstance(json_data, dict):\n",
    "                json_data = [json_data]\n",
    "            return json_data\n",
    "        except json.JSONDecodeError:\n",
    "            print(\"Error: Invalid JSON string provided.\")\n",
    "            return []\n",
    "    elif isinstance(raw_data, list):\n",
    "        return raw_data\n",
    "    elif isinstance(raw_data, dict):\n",
    "        return [raw_data] # 统一处理为列表\n",
    "    else:\n",
    "        print(\"Error: Invalid JSON data type. Please provide a JSON string, list or dict.\")\n",
    "        return []\n"
   ]
  },
  {
   "cell_type": "code",
   "execution_count": null,
   "metadata": {},
   "outputs": [],
   "source": [
    "def infer_node_mapping_with_schema(json_data, top_n=None):\n",
    "    \"\"\"从JSON数据中推断节点相关的 mapping 字典部分，并使用 JSON Schema 进行数据类型检查，\n",
    "    **仅基于前 N 个 JSON 元素进行推断。**\n",
    "\n",
    "    Args:\n",
    "        json_data: JSON数据 (list of dict).\n",
    "        num_elements (int, optional):  用于推断 mapping 的 JSON 元素数量上限。默认为 None，表示使用所有元素.\n",
    "\n",
    "    Returns:\n",
    "        dict: 推断出的节点 mapping 字典.\n",
    "    \"\"\"\n",
    "    node_mapping = {}\n",
    "    node_types_discovered = {} # 记录已发现的节点类型, 避免重复处理\n",
    "    elements_to_process = json_data[:top_n] if top_n is not None else json_data # **限制处理的元素数量**\n",
    "\n",
    "    for record in elements_to_process: # **遍历限制数量的 JSON 元素**\n",
    "        if not isinstance(record, dict):\n",
    "            print(\"Warning: Skipping non-dictionary record:\", record)\n",
    "            continue\n",
    "\n",
    "        # 简单地使用 JSON 对象的 key 作为节点类型名\n",
    "        node_type_name = record.keys().__iter__().__next__()\n",
    "        if not node_type_name:\n",
    "            print(\"Warning: Skipping record without keys:\", record)\n",
    "            continue\n",
    "\n",
    "        if node_type_name not in node_types_discovered and isinstance(record[node_type_name], str):\n",
    "            node_types_discovered[node_type_name] = True\n",
    "            node_def = {\n",
    "                \"node_label\": node_type_name.capitalize(),\n",
    "                \"properties\": {},\n",
    "                \"relationships\": []\n",
    "            }\n",
    "\n",
    "            # 使用 JSON Schema 进行属性类型推断和检查\n",
    "            schema = Draft7Validator.check_schema({}) # 初始化一个空的schema validator\n",
    "            for key, value in record.items():\n",
    "                if key != node_type_name:\n",
    "                    property_type = \"string\" # 默认类型\n",
    "                    if isinstance(value, int):\n",
    "                        property_type = \"integer\"\n",
    "                    elif isinstance(value, float):\n",
    "                        property_type = \"number\"\n",
    "                    elif isinstance(value, bool):\n",
    "                        property_type = \"boolean\"\n",
    "                    elif isinstance(value, list):\n",
    "                        property_type = \"array\"\n",
    "                    elif isinstance(value, dict):\n",
    "                        property_type = \"object\"\n",
    "                    else:\n",
    "                        property_type = \"string\" # 默认字符串类型\n",
    "\n",
    "                    node_def[\"properties\"][key] = {\"neo4j_property\": key, \"type\": property_type} # 存储属性类型信息\n",
    "\n",
    "            node_mapping[node_def[\"node_label\"]] = node_def\n",
    "\n",
    "    return node_mapping"
   ]
  },
  {
   "cell_type": "code",
   "execution_count": null,
   "metadata": {},
   "outputs": [],
   "source": [
    "node_mapping = infer_node_mapping_with_schema(ss_metadata, top_n=None)"
   ]
  },
  {
   "cell_type": "code",
   "execution_count": null,
   "metadata": {},
   "outputs": [],
   "source": [
    "node_mapping = {\n",
    "    'Paper': {\n",
    "        'node_label': 'Paperid',\n",
    "        'properties': \n",
    "            {\n",
    "                'externalIds': {'neo4j_property': 'externalIds',\n",
    "                'type': 'object'},\n",
    "                'corpusId': {'neo4j_property': 'corpusId', 'type': 'integer'},\n",
    "                'publicationVenue': {'neo4j_property': 'publicationVenue',\n",
    "                    'type': 'object'},\n",
    "                'url': {'neo4j_property': 'url', 'type': 'string'},\n",
    "                'title': {'neo4j_property': 'title', 'type': 'string'},\n",
    "                'abstract': {'neo4j_property': 'abstract', 'type': 'string'},\n",
    "                'venue': {'neo4j_property': 'venue', 'type': 'string'},\n",
    "                'year': {'neo4j_property': 'year', 'type': 'integer'},\n",
    "                'referenceCount': {'neo4j_property': 'referenceCount', 'type': 'integer'},\n",
    "                'citationCount': {'neo4j_property': 'citationCount', 'type': 'integer'},\n",
    "                'influentialCitationCount': {'neo4j_property': 'influentialCitationCount',\n",
    "                    'type': 'integer'},\n",
    "                'isOpenAccess': {'neo4j_property': 'isOpenAccess', 'type': 'integer'},\n",
    "                'openAccessPdf': {'neo4j_property': 'openAccessPdf', 'type': 'string'},\n",
    "                'fieldsOfStudy': {'neo4j_property': 'fieldsOfStudy', 'type': 'array'},\n",
    "                's2FieldsOfStudy': {'neo4j_property': 's2FieldsOfStudy', 'type': 'array'},\n",
    "                'publicationTypes': {'neo4j_property': 'publicationTypes', 'type': 'array'},\n",
    "                'publicationDate': {'neo4j_property': 'publicationDate', 'type': 'string'},\n",
    "                'journal': {'neo4j_property': 'journal', 'type': 'object'},\n",
    "                'citationStyles': {'neo4j_property': 'citationStyles', 'type': 'object'},\n",
    "                'authors': {'neo4j_property': 'authors', 'type': 'array'}\n",
    "    },\n",
    "    'relationships': []}}"
   ]
  },
  {
   "cell_type": "code",
   "execution_count": null,
   "metadata": {},
   "outputs": [],
   "source": [
    "class Json2Neo4j:\n",
    "    def __init__(self, input_data, neo4j_uri, neo4j_user, database):\n",
    "        \"\"\"\n",
    "        Args: \n",
    "            json_data (str or list or dict): JSON数据 (可以是JSON字符串, JSON对象列表, 或JSON对象).\n",
    "        \"\"\"\n",
    "        self.json_data = self.load_json(input_data)\n",
    "        self.neo4j_uri = neo4j_uri\n",
    "        self.neo4j_user = neo4j_user\n",
    "        self.database = database\n",
    "        self.driver = GraphDatabase.driver(uri=neo4j_uri, auth=(neo4j_user, database))\n",
    "        if self.driver is None:\n",
    "            print(\"Failed to create Neo4j driver.\")\n",
    "            return\n",
    "\n",
    "\n",
    "    def load_json(self, raw_data):\n",
    "        \"\"\"validate and load json data\"\"\"\n",
    "        if isinstance(raw_data, str):\n",
    "            try:\n",
    "                json_data = json.loads(raw_data)\n",
    "                if isinstance(json_data, dict):\n",
    "                    json_data = [json_data]\n",
    "                return json_data\n",
    "            except json.JSONDecodeError:\n",
    "                print(\"Error: Invalid JSON string provided.\")\n",
    "                return []\n",
    "        elif isinstance(raw_data, list):\n",
    "            return raw_data\n",
    "        elif isinstance(raw_data, dict):\n",
    "            return [raw_data] # 统一处理为列表\n",
    "        else:\n",
    "            print(\"Error: Invalid JSON data type. Please provide a JSON string, list or dict.\")\n",
    "            return []\n",
    "\n",
    "    def infer_node_mapping_with_schema(self, top_n=None):\n",
    "        \"\"\"从JSON数据中推断节点相关的 mapping 字典部分，并使用 JSON Schema 进行数据类型检查，\n",
    "        **仅基于前 N 个 JSON 元素进行推断。**\n",
    "\n",
    "        Args:\n",
    "            json_data (str or list or dict): JSON数据 (可以是JSON字符串, JSON对象列表, 或JSON对象).\n",
    "            num_elements (int, optional):  用于推断 mapping 的 JSON 元素数量上限。默认为 None，表示使用所有元素.\n",
    "\n",
    "        Returns:\n",
    "            dict: 推断出的节点 mapping 字典.\n",
    "        \"\"\"\n",
    "        node_mapping = {}\n",
    "        node_types_discovered = {} # 记录已发现的节点类型, 避免重复处理\n",
    "        elements_to_process = self.json_data[:top_n] if top_n is not None else self.json_data # **限制处理的元素数量**\n",
    "\n",
    "        for record in elements_to_process: # **遍历限制数量的 JSON 元素**\n",
    "            if not isinstance(record, dict):\n",
    "                print(\"Warning: Skipping non-dictionary record:\", record)\n",
    "                continue\n",
    "\n",
    "            # 简单地使用 JSON 对象的 key 作为节点类型名\n",
    "            node_type_name = record.keys().__iter__().__next__()\n",
    "            if not node_type_name:\n",
    "                print(\"Warning: Skipping record without keys:\", record)\n",
    "                continue\n",
    "\n",
    "            if node_type_name not in node_types_discovered and isinstance(record[node_type_name], str):\n",
    "                node_types_discovered[node_type_name] = True\n",
    "                node_def = {\n",
    "                    \"node_label\": node_type_name.capitalize(),\n",
    "                    \"properties\": {},\n",
    "                    \"relationships\": []\n",
    "                }\n",
    "\n",
    "                # 使用 JSON Schema 进行属性类型推断和检查\n",
    "                schema = Draft7Validator.check_schema({}) # 初始化一个空的schema validator\n",
    "                for key, value in record.items():\n",
    "                    if key != node_type_name:\n",
    "                        property_type = \"string\" # 默认类型\n",
    "                        if isinstance(value, int):\n",
    "                            property_type = \"integer\"\n",
    "                        elif isinstance(value, float):\n",
    "                            property_type = \"number\"\n",
    "                        elif isinstance(value, bool):\n",
    "                            property_type = \"boolean\"\n",
    "                        elif isinstance(value, list):\n",
    "                            property_type = \"array\"\n",
    "                        elif isinstance(value, dict):\n",
    "                            property_type = \"object\"\n",
    "                        else:\n",
    "                            property_type = \"string\" # 默认字符串类型\n",
    "\n",
    "                        node_def[\"properties\"][key] = {\"neo4j_property\": key, \"type\": property_type} # 存储属性类型信息\n",
    "\n",
    "                node_mapping[node_def[\"node_label\"]] = node_def\n",
    "\n",
    "        return node_mapping\n",
    "\n",
    "\n",
    "def infer_relationship_mapping_with_schema(json_data, node_mapping, num_elements=None):\n",
    "    \"\"\"\n",
    "    从JSON数据中推断关联关系的 mapping 字典部分，并添加到已有的节点 mapping 中，\n",
    "    **仅基于前 N 个 JSON 元素进行推断。**\n",
    "\n",
    "    Args:\n",
    "        json_data (str or list or dict): JSON数据 (可以是JSON字符串, JSON对象列表, 或JSON对象).\n",
    "        node_mapping (dict):  已经推断出的节点 mapping 字典 (由 infer_node_mapping_with_schema 函数生成).\n",
    "        num_elements (int, optional):  用于推断 mapping 的 JSON 元素数量上限。默认为 None，表示使用所有元素.\n",
    "\n",
    "    Returns:\n",
    "        dict:  完整的 mapping 字典，包含节点和关系 mapping.\n",
    "    \"\"\"\n",
    "    if isinstance(json_data, str):\n",
    "        try:\n",
    "            data = json.loads(json_data)\n",
    "        except json.JSONDecodeError:\n",
    "            print(\"Error: Invalid JSON string provided.\")\n",
    "            return node_mapping\n",
    "    elif isinstance(json_data, list):\n",
    "        data = json_data\n",
    "    elif isinstance(json_data, dict):\n",
    "        data = [json_data] # 统一处理为列表\n",
    "    else:\n",
    "        print(\"Error: Invalid JSON data type. Please provide a JSON string, list or dict.\")\n",
    "        return node_mapping\n",
    "\n",
    "    if not data:\n",
    "        print(\"Error: Empty JSON data.\")\n",
    "        return node_mapping\n",
    "\n",
    "    elements_to_process = data[:num_elements] if num_elements is not None else data # **限制处理的元素数量**\n",
    "\n",
    "    for record in elements_to_process: # **遍历限制数量的 JSON 元素**\n",
    "        if not isinstance(record, dict):\n",
    "            continue\n",
    "\n",
    "        # 简单地使用 JSON 对象的 key 作为节点类型名\n",
    "        node_type_name = record.keys().__iter__().__next__()\n",
    "        if not node_type_name or not isinstance(record[node_type_name], str):\n",
    "            continue\n",
    "\n",
    "        node_label = node_type_name.capitalize()\n",
    "\n",
    "        if node_label in node_mapping and \"relationships\" in node_mapping[node_label]:\n",
    "            node_def = node_mapping[node_label]\n",
    "\n",
    "            # 推断关系 (这里只是一个非常基础的示例，假设 \"relationship\" 字段表示关系)\n",
    "            if \"relationship\" in record and isinstance(record[\"relationship\"], list):\n",
    "                for relation in record[\"relationship\"]:\n",
    "                    if isinstance(relation, dict) and \"type\" in relation and \"target_\" in list(relation.keys())[1]:\n",
    "                        relationship_type = relation[\"type\"].upper()\n",
    "                        target_key = list(relation.keys())[1]\n",
    "                        target_node_label = target_key.replace(\"target_\", \"\").capitalize()\n",
    "                        target_node_property_key = target_key\n",
    "                        source_property_key = node_type_name\n",
    "                        target_json_key = target_key\n",
    "\n",
    "                        relationship_def = {\n",
    "                            \"relationship_type\": relationship_type,\n",
    "                            \"target_node_label\": target_node_label,\n",
    "                            \"target_node_property_key\": target_node_property_key,\n",
    "                            \"source_property_key\": source_property_key,\n",
    "                            \"target_json_key\": target_json_key,\n",
    "                            \"json_relationship_type\": relation[\"type\"]\n",
    "                        }\n",
    "                        if relationship_def not in node_def[\"relationships\"]:\n",
    "                            node_def[\"relationships\"].append(relationship_def)\n",
    "\n",
    "    return node_mapping\n",
    "\n",
    "\n",
    "def infer_mapping_from_json_with_schema(json_data, num_elements=None):\n",
    "    \"\"\"\n",
    "    从JSON数据中推断完整的Neo4j mapping字典，包括节点和关系，并使用 JSON Schema 进行数据类型检查，\n",
    "    **仅基于前 N 个 JSON 元素进行推断。**\n",
    "\n",
    "    Args:\n",
    "        json_data (str or list or dict): JSON数据 (可以是JSON字符串, JSON对象列表, 或JSON对象).\n",
    "        num_elements (int, optional):  用于推断 mapping 的 JSON 元素数量上限。默认为 None，表示使用所有元素.\n",
    "\n",
    "    Returns:\n",
    "        dict: 推断出的完整的 mapping 字典.\n",
    "    \"\"\"\n",
    "    node_mapping = infer_node_mapping_with_schema(json_data, num_elements) # 推断节点 mapping，传递 num_elements\n",
    "    full_mapping = infer_relationship_mapping_with_schema(json_data, node_mapping, num_elements) # 推断关系 mapping 并合并，传递 num_elements\n",
    "    return full_mapping"
   ]
  }
 ],
 "metadata": {
  "kernelspec": {
   "display_name": "ai4fun",
   "language": "python",
   "name": "python3"
  },
  "language_info": {
   "codemirror_mode": {
    "name": "ipython",
    "version": 3
   },
   "file_extension": ".py",
   "mimetype": "text/x-python",
   "name": "python",
   "nbconvert_exporter": "python",
   "pygments_lexer": "ipython3",
   "version": "3.10.16"
  }
 },
 "nbformat": 4,
 "nbformat_minor": 2
}
